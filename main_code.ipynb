{
 "cells": [
  {
   "cell_type": "code",
   "execution_count": 2,
   "id": "8b078d91-a51b-4caf-b566-da145afcfefd",
   "metadata": {},
   "outputs": [
    {
     "name": "stdout",
     "output_type": "stream",
     "text": [
      "Requirement already satisfied: scikit-learn in f:\\new folder\\lib\\site-packages (1.5.1)\n",
      "Requirement already satisfied: numpy>=1.19.5 in f:\\new folder\\lib\\site-packages (from scikit-learn) (1.26.4)\n",
      "Requirement already satisfied: scipy>=1.6.0 in f:\\new folder\\lib\\site-packages (from scikit-learn) (1.13.1)\n",
      "Requirement already satisfied: joblib>=1.2.0 in f:\\new folder\\lib\\site-packages (from scikit-learn) (1.4.2)\n",
      "Requirement already satisfied: threadpoolctl>=3.1.0 in f:\\new folder\\lib\\site-packages (from scikit-learn) (3.5.0)\n",
      "Note: you may need to restart the kernel to use updated packages.\n"
     ]
    }
   ],
   "source": [
    "pip install scikit-learn\n"
   ]
  },
  {
   "cell_type": "code",
   "execution_count": 3,
   "id": "a3315b52-d138-421e-824d-be7a9416e928",
   "metadata": {},
   "outputs": [],
   "source": [
    "import pandas as pd\n",
    "import matplotlib.pyplot as plt\n",
    "import seaborn as sns\n",
    "import numpy as np\n"
   ]
  },
  {
   "cell_type": "code",
   "execution_count": 4,
   "id": "bac46aee-4dd6-4956-83cf-679721d1a194",
   "metadata": {},
   "outputs": [],
   "source": [
    "%matplotlib inline\n",
    "plt.rcParams[\"figure.figsize\"] = (8, 6)\n"
   ]
  },
  {
   "cell_type": "code",
   "execution_count": 5,
   "id": "04f7d3a6-49d3-4123-8f56-204ece565379",
   "metadata": {},
   "outputs": [],
   "source": [
    "from sklearn.preprocessing import LabelEncoder, OrdinalEncoder\n",
    "from sklearn.preprocessing import MinMaxScaler\n"
   ]
  },
  {
   "cell_type": "code",
   "execution_count": 6,
   "id": "e1a2d40d-328f-40fb-a266-8cd8a3400fef",
   "metadata": {},
   "outputs": [],
   "source": [
    "from sklearn.feature_selection import SelectKBest\n",
    "from sklearn.feature_selection import chi2, mutual_info_classif\n"
   ]
  },
  {
   "cell_type": "code",
   "execution_count": 7,
   "id": "f42fe894-774d-4500-91e4-738e46b2bcde",
   "metadata": {},
   "outputs": [],
   "source": [
    "import warnings\n",
    "warnings.filterwarnings('ignore')"
   ]
  },
  {
   "cell_type": "code",
   "execution_count": 9,
   "id": "1763daac-66d1-4e2f-948a-1bc3cf4132a9",
   "metadata": {},
   "outputs": [],
   "source": [
    "pd.options.display.float_format = '{:.2f}'.format\n"
   ]
  },
  {
   "cell_type": "code",
   "execution_count": 12,
   "id": "faff8b31-d490-43d4-9afc-b2ea34300282",
   "metadata": {},
   "outputs": [],
   "source": [
    "df = pd.read_csv(r\"C:\\Users\\Amar\\bank\\bank-additional-full.csv\", sep=';')\n"
   ]
  },
  {
   "cell_type": "code",
   "execution_count": 13,
   "id": "51c78d1c-d9c0-4ca5-9961-491be3d986a4",
   "metadata": {},
   "outputs": [],
   "source": [
    "col_cat = list(df.select_dtypes(include=['object']).columns)\n",
    "df.loc[:, col_cat] = df[col_cat].astype('category')\n"
   ]
  },
  {
   "cell_type": "code",
   "execution_count": 14,
   "id": "2cdd19d7-4870-40fc-be57-f20186002ea9",
   "metadata": {},
   "outputs": [],
   "source": [
    "X = df.iloc[:,:-1]  #input columns\n",
    "y = df.iloc[:,-1]    #target column \n"
   ]
  },
  {
   "cell_type": "code",
   "execution_count": 15,
   "id": "e8f84aae-96ec-48b4-bff7-366115456b8a",
   "metadata": {},
   "outputs": [],
   "source": [
    "col_cat.pop()\n",
    "oe = OrdinalEncoder()\n",
    "oe.fit(X[col_cat])\n",
    "X_cat_enc = oe.transform(X[col_cat])\n",
    "X_cat_enc = pd.DataFrame(X_cat_enc)\n",
    "X_cat_enc.columns = col_cat\n"
   ]
  },
  {
   "cell_type": "code",
   "execution_count": 16,
   "id": "8bb633b2-6142-4064-bf0a-fca3bdc4c257",
   "metadata": {},
   "outputs": [],
   "source": [
    "col_num = list(df.select_dtypes(include =['int64', 'float64']).columns)\n",
    "scaler = MinMaxScaler(feature_range=(0, 1))\n",
    "X_num_enc = scaler.fit_transform(X[col_num])\n",
    "X_num_enc = pd.DataFrame(X_num_enc)\n",
    "X_num_enc.columns = col_num\n",
    "x_enc = pd.concat([X_cat_enc, X_num_enc], axis=1)\n"
   ]
  },
  {
   "cell_type": "code",
   "execution_count": 17,
   "id": "c8d9a210-eb73-46e9-9d9a-bb01aa159f2e",
   "metadata": {},
   "outputs": [],
   "source": [
    "le = LabelEncoder()\n",
    "le.fit(y)\n",
    "y_enc = le.transform(y)\n",
    "y_enc = pd.Series(y_enc)\n",
    "y_enc.columns = y.name\n"
   ]
  },
  {
   "cell_type": "code",
   "execution_count": 18,
   "id": "f613b790-8804-49ad-a6b3-91839bf090c8",
   "metadata": {},
   "outputs": [],
   "source": [
    "col = list(x_enc.columns)\n",
    "col.remove('emp.var.rate')\n",
    "col.remove('nr.employed')\n",
    "x_enc = x_enc[col]\n"
   ]
  },
  {
   "cell_type": "code",
   "execution_count": 19,
   "id": "c3a32859-3b1d-4551-9969-e1421869754b",
   "metadata": {},
   "outputs": [
    {
     "name": "stdout",
     "output_type": "stream",
     "text": [
      "       euribor3m  contact  previous  duration  default  education  pdays  \\\n",
      "0           0.96     1.00      0.00      0.05     0.00       0.00   1.00   \n",
      "1           0.96     1.00      0.00      0.03     1.00       3.00   1.00   \n",
      "2           0.96     1.00      0.00      0.05     0.00       3.00   1.00   \n",
      "3           0.96     1.00      0.00      0.03     0.00       1.00   1.00   \n",
      "4           0.96     1.00      0.00      0.06     0.00       3.00   1.00   \n",
      "...          ...      ...       ...       ...      ...        ...    ...   \n",
      "41183       0.09     0.00      0.00      0.07     0.00       5.00   1.00   \n",
      "41184       0.09     0.00      0.00      0.08     0.00       5.00   1.00   \n",
      "41185       0.09     0.00      0.00      0.04     0.00       6.00   1.00   \n",
      "41186       0.09     0.00      0.00      0.09     0.00       5.00   1.00   \n",
      "41187       0.09     0.00      0.14      0.05     0.00       5.00   1.00   \n",
      "\n",
      "       poutcome  job  cons.price.idx  \n",
      "0          1.00 3.00            0.70  \n",
      "1          1.00 7.00            0.70  \n",
      "2          1.00 7.00            0.70  \n",
      "3          1.00 0.00            0.70  \n",
      "4          1.00 7.00            0.70  \n",
      "...         ...  ...             ...  \n",
      "41183      1.00 5.00            1.00  \n",
      "41184      1.00 1.00            1.00  \n",
      "41185      1.00 5.00            1.00  \n",
      "41186      1.00 9.00            1.00  \n",
      "41187      0.00 5.00            1.00  \n",
      "\n",
      "[41188 rows x 10 columns]\n",
      "0        0\n",
      "1        0\n",
      "2        0\n",
      "3        0\n",
      "4        0\n",
      "        ..\n",
      "41183    1\n",
      "41184    0\n",
      "41185    0\n",
      "41186    1\n",
      "41187    0\n",
      "Length: 41188, dtype: int32\n"
     ]
    }
   ],
   "source": [
    "bestfeatures = SelectKBest(score_func=chi2, k=10)\n",
    "fit = bestfeatures.fit(x_enc,y_enc)\n",
    "dfscores = pd.DataFrame(fit.scores_)\n",
    "dfcolumns = pd.DataFrame(x_enc.columns)\n",
    "featureScores = pd.concat([dfcolumns, dfscores],axis=1)\n",
    "featureScores.columns = ['Specs','Score']  #naming the dataframe columns\n",
    "x_enc = x_enc[list(featureScores.nlargest(10,'Score')['Specs'])]\n",
    "print(x_enc)\n",
    "print(y_enc)"
   ]
  },
  {
   "cell_type": "code",
   "execution_count": 21,
   "id": "48e277e7-3f19-482f-80c8-f374922945e0",
   "metadata": {},
   "outputs": [],
   "source": [
    "#Classifiers\n",
    "from sklearn.linear_model import LogisticRegression \n",
    "from sklearn.ensemble import RandomForestClassifier, AdaBoostClassifier\n",
    "from sklearn.naive_bayes import GaussianNB\n",
    "from sklearn.discriminant_analysis import QuadraticDiscriminantAnalysis\n",
    "from sklearn.model_selection import cross_val_score\n",
    "from sklearn.ensemble import VotingClassifier\n",
    "from sklearn.model_selection import train_test_split\n",
    "from sklearn.metrics import confusion_matrix, ConfusionMatrixDisplay\n"
   ]
  },
  {
   "cell_type": "code",
   "execution_count": 22,
   "id": "00e20caa-0976-459c-bb2c-200e4ce2bf04",
   "metadata": {},
   "outputs": [
    {
     "name": "stdout",
     "output_type": "stream",
     "text": [
      "Accuracy: 0.87 (+/- 0.06) [Logistic Regression]\n"
     ]
    }
   ],
   "source": [
    "clf = LogisticRegression()\n",
    "scores = cross_val_score(clf, x_enc, y_enc, scoring='accuracy', cv=5)\n",
    "print(\"Accuracy: %0.2f (+/- %0.2f) [%s]\" % (scores.mean(), scores.std(), 'Logistic Regression'))"
   ]
  },
  {
   "cell_type": "code",
   "execution_count": 23,
   "id": "d7ae11b2-6426-4792-96bf-9dbfa4a91454",
   "metadata": {},
   "outputs": [],
   "source": [
    "clf_name = ['Logistic Regression']\n",
    "clf_acc = [scores.mean()]"
   ]
  },
  {
   "cell_type": "code",
   "execution_count": 24,
   "id": "1622bebb-53d8-4975-92bb-5ea17317c6f6",
   "metadata": {},
   "outputs": [
    {
     "name": "stdout",
     "output_type": "stream",
     "text": [
      "Accuracy: 0.87 (+/- 0.06) [Logistic Regression]\n",
      "Accuracy: 0.83 (+/- 0.13) [Quadratic Discriminant Analysis]\n",
      "Accuracy: 0.80 (+/- 0.15) [naive Bayes]\n",
      "Accuracy: 0.76 (+/- 0.24) [Random Forest]\n",
      "Accuracy: 0.61 (+/- 0.27) [Ada Boost]\n"
     ]
    }
   ],
   "source": [
    "clf1 = LogisticRegression(random_state=1)\n",
    "clf2 = QuadraticDiscriminantAnalysis()\n",
    "clf3 = GaussianNB()\n",
    "clf4 = RandomForestClassifier(max_depth=5, n_estimators=10, max_features=1)\n",
    "clf5 = AdaBoostClassifier()\n",
    "\n",
    "for clf, label in zip([clf1, clf2, clf3, clf4, clf5], ['Logistic Regression', 'Quadratic Discriminant Analysis', 'naive Bayes', 'Random Forest', 'Ada Boost']):\n",
    "     scores = cross_val_score(clf, x_enc, y_enc, scoring='accuracy', cv=5)\n",
    "     print(\"Accuracy: %0.2f (+/- %0.2f) [%s]\" % (scores.mean(), scores.std(), label))"
   ]
  },
  {
   "cell_type": "code",
   "execution_count": 25,
   "id": "17426175-6742-4637-8874-84ccf9be2138",
   "metadata": {},
   "outputs": [
    {
     "name": "stdout",
     "output_type": "stream",
     "text": [
      "Accuracy: 0.80 (+/- 0.15) [Hard Voiting Ensemble]\n"
     ]
    }
   ],
   "source": [
    "eclf = VotingClassifier(\n",
    "     estimators=[('lr', clf1), ('rf', clf2), ('gnb', clf3), ('rfc', clf4), ('abc', clf5)],\n",
    "     voting='hard')\n",
    "scores = cross_val_score(eclf, x_enc, y_enc, scoring='accuracy', cv=5)\n",
    "print(\"Accuracy: %0.2f (+/- %0.2f) [%s]\" % (scores.mean(), scores.std(), 'Hard Voiting Ensemble'))"
   ]
  },
  {
   "cell_type": "code",
   "execution_count": 26,
   "id": "d06c79f8-dbf0-4380-829d-1a9f4d238e72",
   "metadata": {},
   "outputs": [],
   "source": [
    "clf_name.append('Hard Voiting Ensemble')\n",
    "clf_acc.append(scores.mean())"
   ]
  },
  {
   "cell_type": "code",
   "execution_count": 27,
   "id": "6778fdb2-fc0e-465f-b732-9d0d8b63095e",
   "metadata": {},
   "outputs": [
    {
     "name": "stdout",
     "output_type": "stream",
     "text": [
      "Accuracy: 0.82 (+/- 0.15) [Soft Voting Ensemble]\n"
     ]
    }
   ],
   "source": [
    "eclf = VotingClassifier(estimators=[\n",
    "    ('logreg', clf1), \n",
    "    ('qda', clf2),\n",
    "    ('nb', clf3), \n",
    "    ('rf', clf4), \n",
    "    ('ada', clf5)\n",
    "], voting='soft')\n",
    "\n",
    "# Perform cross-validation\n",
    "scores = cross_val_score(eclf, x_enc, y_enc, scoring='accuracy', cv=5)\n",
    "\n",
    "# Print the results\n",
    "print(\"Accuracy: %0.2f (+/- %0.2f) [%s]\" % (scores.mean(), scores.std(), 'Soft Voting Ensemble'))\n"
   ]
  },
  {
   "cell_type": "code",
   "execution_count": 28,
   "id": "a4221ecd-9fca-4385-9baa-6ceffec5051d",
   "metadata": {},
   "outputs": [],
   "source": [
    "clf_name.append('Soft Voiting Ensemble')\n",
    "clf_acc.append(scores.mean())"
   ]
  },
  {
   "cell_type": "code",
   "execution_count": 29,
   "id": "b5375d69-9f57-46d4-b953-7cd070bac762",
   "metadata": {},
   "outputs": [],
   "source": [
    "X_train, X_test, y_train, y_test = train_test_split(x_enc, y_enc, test_size=0.33, random_state=1)\n",
    "eclf.fit(X_train, y_train)\n",
    "yhat = eclf.predict(X_test)"
   ]
  },
  {
   "cell_type": "code",
   "execution_count": 31,
   "id": "a884f0ab-7615-4f9e-b81a-d7a6af608364",
   "metadata": {},
   "outputs": [
    {
     "name": "stdout",
     "output_type": "stream",
     "text": [
      "Training DataSet accuracy:  89.7% Test DataSet accuracy:  89.8%\n"
     ]
    },
    {
     "data": {
      "image/png": "[encoded data removed]",
      "text/plain": [
       "<Figure size 800x600 with 2 Axes>"
      ]
     },
     "metadata": {},
     "output_type": "display_data"
    }
   ],
   "source": [
    "scores_train = eclf.score(X_train, y_train)\n",
    "scores_test = eclf.score(X_test, y_test)\n",
    "print('Training DataSet accuracy: {: .1%}'.format(scores_train), 'Test DataSet accuracy: {: .1%}'.format(scores_test))\n",
    "cm = confusion_matrix(y_test, y_test)\n",
    "\n",
    "# Display confusion matrix\n",
    "disp = ConfusionMatrixDisplay(confusion_matrix=cm)\n",
    "disp.plot(cmap='Blues')\n",
    "plt.show()"
   ]
  },
  {
   "cell_type": "code",
   "execution_count": 33,
   "id": "e1b0994f-8e34-4f5d-b4a0-3ff09f6ff9d6",
   "metadata": {},
   "outputs": [
    {
     "name": "stdout",
     "output_type": "stream",
     "text": [
      "Collecting tensorflow\n",
      "  Downloading tensorflow-2.19.0-cp312-cp312-win_amd64.whl.metadata (4.1 kB)\n",
      "Collecting absl-py>=1.0.0 (from tensorflow)\n",
      "  Downloading absl_py-2.2.2-py3-none-any.whl.metadata (2.6 kB)\n",
      "Collecting astunparse>=1.6.0 (from tensorflow)\n",
      "  Downloading astunparse-1.6.3-py2.py3-none-any.whl.metadata (4.4 kB)\n",
      "Collecting flatbuffers>=24.3.25 (from tensorflow)\n",
      "  Downloading flatbuffers-25.2.10-py2.py3-none-any.whl.metadata (875 bytes)\n",
      "Collecting gast!=0.5.0,!=0.5.1,!=0.5.2,>=0.2.1 (from tensorflow)\n",
      "  Downloading gast-0.6.0-py3-none-any.whl.metadata (1.3 kB)\n",
      "Collecting google-pasta>=0.1.1 (from tensorflow)\n",
      "  Downloading google_pasta-0.2.0-py3-none-any.whl.metadata (814 bytes)\n",
      "Collecting libclang>=13.0.0 (from tensorflow)\n",
      "  Downloading libclang-18.1.1-py2.py3-none-win_amd64.whl.metadata (5.3 kB)\n",
      "Collecting opt-einsum>=2.3.2 (from tensorflow)\n",
      "  Downloading opt_einsum-3.4.0-py3-none-any.whl.metadata (6.3 kB)\n",
      "Requirement already satisfied: packaging in f:\\new folder\\lib\\site-packages (from tensorflow) (24.1)\n",
      "Requirement already satisfied: protobuf!=4.21.0,!=4.21.1,!=4.21.2,!=4.21.3,!=4.21.4,!=4.21.5,<6.0.0dev,>=3.20.3 in f:\\new folder\\lib\\site-packages (from tensorflow) (4.25.3)\n",
      "Requirement already satisfied: requests<3,>=2.21.0 in f:\\new folder\\lib\\site-packages (from tensorflow) (2.32.3)\n",
      "Requirement already satisfied: setuptools in f:\\new folder\\lib\\site-packages (from tensorflow) (75.1.0)\n",
      "Requirement already satisfied: six>=1.12.0 in f:\\new folder\\lib\\site-packages (from tensorflow) (1.16.0)\n",
      "Collecting termcolor>=1.1.0 (from tensorflow)\n",
      "  Downloading termcolor-3.1.0-py3-none-any.whl.metadata (6.4 kB)\n",
      "Requirement already satisfied: typing-extensions>=3.6.6 in f:\\new folder\\lib\\site-packages (from tensorflow) (4.11.0)\n",
      "Requirement already satisfied: wrapt>=1.11.0 in f:\\new folder\\lib\\site-packages (from tensorflow) (1.14.1)\n",
      "Collecting grpcio<2.0,>=1.24.3 (from tensorflow)\n",
      "  Downloading grpcio-1.71.0-cp312-cp312-win_amd64.whl.metadata (4.0 kB)\n",
      "Collecting tensorboard~=2.19.0 (from tensorflow)\n",
      "  Downloading tensorboard-2.19.0-py3-none-any.whl.metadata (1.8 kB)\n",
      "Collecting keras>=3.5.0 (from tensorflow)\n",
      "  Downloading keras-3.9.2-py3-none-any.whl.metadata (6.1 kB)\n",
      "Requirement already satisfied: numpy<2.2.0,>=1.26.0 in f:\\new folder\\lib\\site-packages (from tensorflow) (1.26.4)\n",
      "Requirement already satisfied: h5py>=3.11.0 in f:\\new folder\\lib\\site-packages (from tensorflow) (3.11.0)\n",
      "Collecting ml-dtypes<1.0.0,>=0.5.1 (from tensorflow)\n",
      "  Downloading ml_dtypes-0.5.1-cp312-cp312-win_amd64.whl.metadata (22 kB)\n",
      "Requirement already satisfied: wheel<1.0,>=0.23.0 in f:\\new folder\\lib\\site-packages (from astunparse>=1.6.0->tensorflow) (0.44.0)\n",
      "Requirement already satisfied: rich in f:\\new folder\\lib\\site-packages (from keras>=3.5.0->tensorflow) (13.7.1)\n",
      "Collecting namex (from keras>=3.5.0->tensorflow)\n",
      "  Downloading namex-0.0.9-py3-none-any.whl.metadata (322 bytes)\n",
      "Collecting optree (from keras>=3.5.0->tensorflow)\n",
      "  Downloading optree-0.15.0-cp312-cp312-win_amd64.whl.metadata (49 kB)\n",
      "Requirement already satisfied: charset-normalizer<4,>=2 in f:\\new folder\\lib\\site-packages (from requests<3,>=2.21.0->tensorflow) (3.3.2)\n",
      "Requirement already satisfied: idna<4,>=2.5 in f:\\new folder\\lib\\site-packages (from requests<3,>=2.21.0->tensorflow) (3.7)\n",
      "Requirement already satisfied: urllib3<3,>=1.21.1 in f:\\new folder\\lib\\site-packages (from requests<3,>=2.21.0->tensorflow) (2.2.3)\n",
      "Requirement already satisfied: certifi>=2017.4.17 in f:\\new folder\\lib\\site-packages (from requests<3,>=2.21.0->tensorflow) (2024.8.30)\n",
      "Requirement already satisfied: markdown>=2.6.8 in f:\\new folder\\lib\\site-packages (from tensorboard~=2.19.0->tensorflow) (3.4.1)\n",
      "Collecting tensorboard-data-server<0.8.0,>=0.7.0 (from tensorboard~=2.19.0->tensorflow)\n",
      "  Downloading tensorboard_data_server-0.7.2-py3-none-any.whl.metadata (1.1 kB)\n",
      "Requirement already satisfied: werkzeug>=1.0.1 in f:\\new folder\\lib\\site-packages (from tensorboard~=2.19.0->tensorflow) (3.0.3)\n",
      "Requirement already satisfied: MarkupSafe>=2.1.1 in f:\\new folder\\lib\\site-packages (from werkzeug>=1.0.1->tensorboard~=2.19.0->tensorflow) (2.1.3)\n",
      "Requirement already satisfied: markdown-it-py>=2.2.0 in f:\\new folder\\lib\\site-packages (from rich->keras>=3.5.0->tensorflow) (2.2.0)\n",
      "Requirement already satisfied: pygments<3.0.0,>=2.13.0 in f:\\new folder\\lib\\site-packages (from rich->keras>=3.5.0->tensorflow) (2.15.1)\n",
      "Requirement already satisfied: mdurl~=0.1 in f:\\new folder\\lib\\site-packages (from markdown-it-py>=2.2.0->rich->keras>=3.5.0->tensorflow) (0.1.0)\n",
      "Downloading tensorflow-2.19.0-cp312-cp312-win_amd64.whl (376.0 MB)\n",
      "   ---------------------------------------- 0.0/376.0 MB ? eta -:--:--\n",
      "   ---------------------------------------- 0.8/376.0 MB 6.7 MB/s eta 0:00:56\n",
      "   ---------------------------------------- 1.8/376.0 MB 4.6 MB/s eta 0:01:22\n",
      "   ---------------------------------------- 2.9/376.0 MB 4.3 MB/s eta 0:01:27\n",
      "   ---------------------------------------- 3.7/376.0 MB 4.2 MB/s eta 0:01:29\n",
      "   ---------------------------------------- 4.5/376.0 MB 4.2 MB/s eta 0:01:29\n",
      "    --------------------------------------- 5.5/376.0 MB 4.1 MB/s eta 0:01:30\n",
      "    --------------------------------------- 6.3/376.0 MB 4.1 MB/s eta 0:01:31\n",
      "    --------------------------------------- 7.1/376.0 MB 4.1 MB/s eta 0:01:31\n",
      "    --------------------------------------- 7.9/376.0 MB 4.1 MB/s eta 0:01:31\n",
      "    --------------------------------------- 8.9/376.0 MB 4.0 MB/s eta 0:01:31\n",
      "   - -------------------------------------- 9.7/376.0 MB 4.0 MB/s eta 0:01:31\n",
      "   - -------------------------------------- 10.5/376.0 MB 4.0 MB/s eta 0:01:31\n",
      "   - -------------------------------------- 11.5/376.0 MB 4.0 MB/s eta 0:01:31\n",
      "   - -------------------------------------- 12.3/376.0 MB 4.0 MB/s eta 0:01:31\n",
      "   - -------------------------------------- 13.1/376.0 MB 4.0 MB/s eta 0:01:31\n",
      "   - -------------------------------------- 13.9/376.0 MB 4.0 MB/s eta 0:01:31\n",
      "   - -------------------------------------- 14.7/376.0 MB 4.0 MB/s eta 0:01:31\n",
      "   - -------------------------------------- 15.7/376.0 MB 4.0 MB/s eta 0:01:30\n",
      "   - -------------------------------------- 16.5/376.0 MB 4.0 MB/s eta 0:01:30\n",
      "   - -------------------------------------- 17.3/376.0 MB 4.0 MB/s eta 0:01:30\n",
      "   - -------------------------------------- 18.1/376.0 MB 4.0 MB/s eta 0:01:30\n",
      "   -- ------------------------------------- 19.1/376.0 MB 4.0 MB/s eta 0:01:30\n",
      "   -- ------------------------------------- 19.9/376.0 MB 4.0 MB/s eta 0:01:30\n",
      "   -- ------------------------------------- 20.7/376.0 MB 4.0 MB/s eta 0:01:30\n",
      "   -- ------------------------------------- 21.5/376.0 MB 4.0 MB/s eta 0:01:29\n",
      "   -- ------------------------------------- 22.5/376.0 MB 4.0 MB/s eta 0:01:29\n",
      "   -- ------------------------------------- 23.3/376.0 MB 4.0 MB/s eta 0:01:29\n",
      "   -- ------------------------------------- 24.1/376.0 MB 4.0 MB/s eta 0:01:29\n",
      "   -- ------------------------------------- 24.9/376.0 MB 4.0 MB/s eta 0:01:29\n",
      "   -- ------------------------------------- 25.7/376.0 MB 4.0 MB/s eta 0:01:29\n",
      "   -- ------------------------------------- 26.5/376.0 MB 4.0 MB/s eta 0:01:28\n",
      "   -- ------------------------------------- 27.3/376.0 MB 4.0 MB/s eta 0:01:28\n",
      "   --- ------------------------------------ 28.3/376.0 MB 4.0 MB/s eta 0:01:28\n",
      "   --- ------------------------------------ 29.1/376.0 MB 4.0 MB/s eta 0:01:28\n",
      "   --- ------------------------------------ 29.9/376.0 MB 4.0 MB/s eta 0:01:28\n",
      "   --- ------------------------------------ 30.7/376.0 MB 4.0 MB/s eta 0:01:27\n",
      "   --- ------------------------------------ 31.5/376.0 MB 4.0 MB/s eta 0:01:27\n",
      "   --- ------------------------------------ 32.2/376.0 MB 4.0 MB/s eta 0:01:27\n",
      "   --- ------------------------------------ 33.3/376.0 MB 4.0 MB/s eta 0:01:27\n",
      "   --- ------------------------------------ 34.1/376.0 MB 4.0 MB/s eta 0:01:27\n",
      "   --- ------------------------------------ 34.9/376.0 MB 3.9 MB/s eta 0:01:27\n",
      "   --- ------------------------------------ 35.7/376.0 MB 4.0 MB/s eta 0:01:26\n",
      "   --- ------------------------------------ 36.4/376.0 MB 4.0 MB/s eta 0:01:26\n",
      "   --- ------------------------------------ 37.5/376.0 MB 4.0 MB/s eta 0:01:26\n",
      "   ---- ----------------------------------- 38.3/376.0 MB 4.0 MB/s eta 0:01:26\n",
      "   ---- ----------------------------------- 39.1/376.0 MB 4.0 MB/s eta 0:01:26\n",
      "   ---- ----------------------------------- 39.8/376.0 MB 4.0 MB/s eta 0:01:25\n",
      "   ---- ----------------------------------- 40.6/376.0 MB 4.0 MB/s eta 0:01:25\n",
      "   ---- ----------------------------------- 41.4/376.0 MB 4.0 MB/s eta 0:01:25\n",
      "   ---- ----------------------------------- 42.5/376.0 MB 4.0 MB/s eta 0:01:25\n",
      "   ---- ----------------------------------- 43.3/376.0 MB 4.0 MB/s eta 0:01:25\n",
      "   ---- ----------------------------------- 44.0/376.0 MB 4.0 MB/s eta 0:01:24\n",
      "   ---- ----------------------------------- 44.8/376.0 MB 4.0 MB/s eta 0:01:24\n",
      "   ---- ----------------------------------- 45.6/376.0 MB 4.0 MB/s eta 0:01:24\n",
      "   ---- ----------------------------------- 46.4/376.0 MB 4.0 MB/s eta 0:01:24\n",
      "   ----- ---------------------------------- 47.4/376.0 MB 4.0 MB/s eta 0:01:24\n",
      "   ----- ---------------------------------- 48.2/376.0 MB 4.0 MB/s eta 0:01:23\n",
      "   ----- ---------------------------------- 49.0/376.0 MB 4.0 MB/s eta 0:01:23\n",
      "   ----- ---------------------------------- 49.8/376.0 MB 4.0 MB/s eta 0:01:23\n",
      "   ----- ---------------------------------- 50.6/376.0 MB 4.0 MB/s eta 0:01:23\n",
      "   ----- ---------------------------------- 51.6/376.0 MB 4.0 MB/s eta 0:01:22\n",
      "   ----- ---------------------------------- 52.4/376.0 MB 4.0 MB/s eta 0:01:22\n",
      "   ----- ---------------------------------- 53.2/376.0 MB 4.0 MB/s eta 0:01:22\n",
      "   ----- ---------------------------------- 54.0/376.0 MB 4.0 MB/s eta 0:01:22\n",
      "   ----- ---------------------------------- 55.1/376.0 MB 4.0 MB/s eta 0:01:22\n",
      "   ----- ---------------------------------- 55.8/376.0 MB 4.0 MB/s eta 0:01:22\n",
      "   ------ --------------------------------- 56.6/376.0 MB 4.0 MB/s eta 0:01:21\n",
      "   ------ --------------------------------- 57.7/376.0 MB 4.0 MB/s eta 0:01:21\n",
      "   ------ --------------------------------- 58.5/376.0 MB 4.0 MB/s eta 0:01:21\n",
      "   ------ --------------------------------- 59.2/376.0 MB 4.0 MB/s eta 0:01:21\n",
      "   ------ --------------------------------- 60.0/376.0 MB 4.0 MB/s eta 0:01:20\n",
      "   ------ --------------------------------- 60.8/376.0 MB 4.0 MB/s eta 0:01:20\n",
      "   ------ --------------------------------- 61.6/376.0 MB 4.0 MB/s eta 0:01:20\n",
      "   ------ --------------------------------- 62.4/376.0 MB 4.0 MB/s eta 0:01:20\n",
      "   ------ --------------------------------- 63.4/376.0 MB 4.0 MB/s eta 0:01:20\n",
      "   ------ --------------------------------- 64.2/376.0 MB 4.0 MB/s eta 0:01:19\n",
      "   ------ --------------------------------- 65.0/376.0 MB 4.0 MB/s eta 0:01:19\n",
      "   ------- -------------------------------- 65.8/376.0 MB 4.0 MB/s eta 0:01:19\n",
      "   ------- -------------------------------- 66.8/376.0 MB 4.0 MB/s eta 0:01:19\n",
      "   ------- -------------------------------- 67.6/376.0 MB 4.0 MB/s eta 0:01:19\n",
      "   ------- -------------------------------- 68.4/376.0 MB 4.0 MB/s eta 0:01:18\n",
      "   ------- -------------------------------- 69.2/376.0 MB 4.0 MB/s eta 0:01:18\n",
      "   ------- -------------------------------- 70.0/376.0 MB 4.0 MB/s eta 0:01:18\n",
      "   ------- -------------------------------- 70.8/376.0 MB 4.0 MB/s eta 0:01:18\n",
      "   ------- -------------------------------- 71.8/376.0 MB 4.0 MB/s eta 0:01:17\n",
      "   ------- -------------------------------- 72.6/376.0 MB 4.0 MB/s eta 0:01:17\n",
      "   ------- -------------------------------- 73.4/376.0 MB 3.9 MB/s eta 0:01:17\n",
      "   ------- -------------------------------- 74.2/376.0 MB 3.9 MB/s eta 0:01:17\n",
      "   ------- -------------------------------- 75.0/376.0 MB 3.9 MB/s eta 0:01:17\n",
      "   -------- ------------------------------- 75.8/376.0 MB 4.0 MB/s eta 0:01:16\n",
      "   -------- ------------------------------- 76.8/376.0 MB 4.0 MB/s eta 0:01:16\n",
      "   -------- ------------------------------- 77.6/376.0 MB 3.9 MB/s eta 0:01:16\n",
      "   -------- ------------------------------- 78.4/376.0 MB 3.9 MB/s eta 0:01:16\n",
      "   -------- ------------------------------- 79.2/376.0 MB 3.9 MB/s eta 0:01:16\n",
      "   -------- ------------------------------- 80.0/376.0 MB 3.9 MB/s eta 0:01:15\n",
      "   -------- ------------------------------- 80.7/376.0 MB 3.9 MB/s eta 0:01:15\n",
      "   -------- ------------------------------- 81.8/376.0 MB 3.9 MB/s eta 0:01:15\n",
      "   -------- ------------------------------- 82.6/376.0 MB 3.9 MB/s eta 0:01:15\n",
      "   -------- ------------------------------- 83.4/376.0 MB 3.9 MB/s eta 0:01:15\n",
      "   -------- ------------------------------- 84.4/376.0 MB 3.9 MB/s eta 0:01:14\n",
      "   --------- ------------------------------ 85.2/376.0 MB 3.9 MB/s eta 0:01:14\n",
      "   --------- ------------------------------ 86.0/376.0 MB 3.9 MB/s eta 0:01:14\n",
      "   --------- ------------------------------ 87.0/376.0 MB 3.9 MB/s eta 0:01:14\n",
      "   --------- ------------------------------ 87.8/376.0 MB 3.9 MB/s eta 0:01:14\n",
      "   --------- ------------------------------ 88.6/376.0 MB 3.9 MB/s eta 0:01:13\n",
      "   --------- ------------------------------ 89.4/376.0 MB 3.9 MB/s eta 0:01:13\n",
      "   --------- ------------------------------ 90.2/376.0 MB 3.9 MB/s eta 0:01:13\n",
      "   --------- ------------------------------ 91.0/376.0 MB 3.9 MB/s eta 0:01:13\n",
      "   --------- ------------------------------ 92.0/376.0 MB 3.9 MB/s eta 0:01:12\n",
      "   --------- ------------------------------ 92.8/376.0 MB 3.9 MB/s eta 0:01:12\n",
      "   --------- ------------------------------ 93.6/376.0 MB 3.9 MB/s eta 0:01:12\n",
      "   ---------- ----------------------------- 94.4/376.0 MB 3.9 MB/s eta 0:01:12\n",
      "   ---------- ----------------------------- 95.2/376.0 MB 3.9 MB/s eta 0:01:12\n",
      "   ---------- ----------------------------- 96.2/376.0 MB 3.9 MB/s eta 0:01:11\n",
      "   ---------- ----------------------------- 97.0/376.0 MB 3.9 MB/s eta 0:01:11\n",
      "   ---------- ----------------------------- 97.8/376.0 MB 3.9 MB/s eta 0:01:11\n",
      "   ---------- ----------------------------- 98.6/376.0 MB 3.9 MB/s eta 0:01:11\n",
      "   ---------- ----------------------------- 99.6/376.0 MB 3.9 MB/s eta 0:01:11\n",
      "   ---------- ----------------------------- 100.4/376.0 MB 3.9 MB/s eta 0:01:10\n",
      "   ---------- ----------------------------- 101.2/376.0 MB 3.9 MB/s eta 0:01:10\n",
      "   ---------- ----------------------------- 102.0/376.0 MB 3.9 MB/s eta 0:01:10\n",
      "   ---------- ----------------------------- 103.0/376.0 MB 3.9 MB/s eta 0:01:10\n",
      "   ----------- ---------------------------- 103.8/376.0 MB 3.9 MB/s eta 0:01:09\n",
      "   ----------- ---------------------------- 104.6/376.0 MB 3.9 MB/s eta 0:01:09\n",
      "   ----------- ---------------------------- 105.6/376.0 MB 3.9 MB/s eta 0:01:09\n",
      "   ----------- ---------------------------- 106.4/376.0 MB 3.9 MB/s eta 0:01:09\n",
      "   ----------- ---------------------------- 107.2/376.0 MB 3.9 MB/s eta 0:01:09\n",
      "   ----------- ---------------------------- 108.0/376.0 MB 3.9 MB/s eta 0:01:08\n",
      "   ----------- ---------------------------- 109.1/376.0 MB 3.9 MB/s eta 0:01:08\n",
      "   ----------- ---------------------------- 109.8/376.0 MB 3.9 MB/s eta 0:01:08\n",
      "   ----------- ---------------------------- 110.6/376.0 MB 3.9 MB/s eta 0:01:08\n",
      "   ----------- ---------------------------- 111.7/376.0 MB 3.9 MB/s eta 0:01:07\n",
      "   ----------- ---------------------------- 112.5/376.0 MB 3.9 MB/s eta 0:01:07\n",
      "   ------------ --------------------------- 113.2/376.0 MB 3.9 MB/s eta 0:01:07\n",
      "   ------------ --------------------------- 114.0/376.0 MB 3.9 MB/s eta 0:01:07\n",
      "   ------------ --------------------------- 114.8/376.0 MB 3.9 MB/s eta 0:01:07\n",
      "   ------------ --------------------------- 115.9/376.0 MB 3.9 MB/s eta 0:01:06\n",
      "   ------------ --------------------------- 116.7/376.0 MB 3.9 MB/s eta 0:01:06\n",
      "   ------------ --------------------------- 117.4/376.0 MB 3.9 MB/s eta 0:01:06\n",
      "   ------------ --------------------------- 118.2/376.0 MB 3.9 MB/s eta 0:01:06\n",
      "   ------------ --------------------------- 119.0/376.0 MB 4.0 MB/s eta 0:01:06\n",
      "   ------------ --------------------------- 119.8/376.0 MB 3.9 MB/s eta 0:01:06\n",
      "   ------------ --------------------------- 120.8/376.0 MB 3.9 MB/s eta 0:01:05\n",
      "   ------------ --------------------------- 121.6/376.0 MB 3.9 MB/s eta 0:01:05\n",
      "   ------------- -------------------------- 122.4/376.0 MB 3.9 MB/s eta 0:01:05\n",
      "   ------------- -------------------------- 123.2/376.0 MB 3.9 MB/s eta 0:01:05\n",
      "   ------------- -------------------------- 124.3/376.0 MB 3.9 MB/s eta 0:01:04\n",
      "   ------------- -------------------------- 125.0/376.0 MB 3.9 MB/s eta 0:01:04\n",
      "   ------------- -------------------------- 125.8/376.0 MB 3.9 MB/s eta 0:01:04\n",
      "   ------------- -------------------------- 126.6/376.0 MB 3.9 MB/s eta 0:01:04\n",
      "   ------------- -------------------------- 127.7/376.0 MB 3.9 MB/s eta 0:01:04\n",
      "   ------------- -------------------------- 128.5/376.0 MB 3.9 MB/s eta 0:01:03\n",
      "   ------------- -------------------------- 129.2/376.0 MB 3.9 MB/s eta 0:01:03\n",
      "   ------------- -------------------------- 130.0/376.0 MB 3.9 MB/s eta 0:01:03\n",
      "   ------------- -------------------------- 130.8/376.0 MB 3.9 MB/s eta 0:01:03\n",
      "   -------------- ------------------------- 131.9/376.0 MB 3.9 MB/s eta 0:01:03\n",
      "   -------------- ------------------------- 132.6/376.0 MB 3.9 MB/s eta 0:01:02\n",
      "   -------------- ------------------------- 133.4/376.0 MB 3.9 MB/s eta 0:01:02\n",
      "   -------------- ------------------------- 134.2/376.0 MB 3.9 MB/s eta 0:01:02\n",
      "   -------------- ------------------------- 135.0/376.0 MB 3.9 MB/s eta 0:01:02\n",
      "   -------------- ------------------------- 135.8/376.0 MB 3.9 MB/s eta 0:01:02\n",
      "   -------------- ------------------------- 136.6/376.0 MB 3.9 MB/s eta 0:01:02\n",
      "   -------------- ------------------------- 137.4/376.0 MB 3.9 MB/s eta 0:01:01\n",
      "   -------------- ------------------------- 138.1/376.0 MB 3.9 MB/s eta 0:01:01\n",
      "   -------------- ------------------------- 139.2/376.0 MB 3.9 MB/s eta 0:01:01\n",
      "   -------------- ------------------------- 140.0/376.0 MB 3.9 MB/s eta 0:01:01\n",
      "   -------------- ------------------------- 140.8/376.0 MB 3.9 MB/s eta 0:01:01\n",
      "   --------------- ------------------------ 141.6/376.0 MB 3.9 MB/s eta 0:01:00\n",
      "   --------------- ------------------------ 142.3/376.0 MB 3.9 MB/s eta 0:01:00\n",
      "   --------------- ------------------------ 143.1/376.0 MB 3.9 MB/s eta 0:01:00\n",
      "   --------------- ------------------------ 143.9/376.0 MB 3.9 MB/s eta 0:01:00\n",
      "   --------------- ------------------------ 144.7/376.0 MB 3.9 MB/s eta 0:01:00\n",
      "   --------------- ------------------------ 145.8/376.0 MB 3.9 MB/s eta 0:00:59\n",
      "   --------------- ------------------------ 146.5/376.0 MB 3.9 MB/s eta 0:00:59\n",
      "   --------------- ------------------------ 147.3/376.0 MB 3.9 MB/s eta 0:00:59\n",
      "   --------------- ------------------------ 148.1/376.0 MB 3.9 MB/s eta 0:00:59\n",
      "   --------------- ------------------------ 148.9/376.0 MB 3.9 MB/s eta 0:00:59\n",
      "   --------------- ------------------------ 149.7/376.0 MB 3.9 MB/s eta 0:00:58\n",
      "   --------------- ------------------------ 150.2/376.0 MB 3.9 MB/s eta 0:00:58\n",
      "   ---------------- ----------------------- 150.7/376.0 MB 3.9 MB/s eta 0:00:58\n",
      "   ---------------- ----------------------- 151.0/376.0 MB 3.9 MB/s eta 0:00:59\n",
      "   ---------------- ----------------------- 152.0/376.0 MB 3.9 MB/s eta 0:00:58\n",
      "   ---------------- ----------------------- 152.8/376.0 MB 3.9 MB/s eta 0:00:58\n",
      "   ---------------- ----------------------- 153.6/376.0 MB 3.9 MB/s eta 0:00:58\n",
      "   ---------------- ----------------------- 154.4/376.0 MB 3.9 MB/s eta 0:00:58\n",
      "   ---------------- ----------------------- 155.2/376.0 MB 3.9 MB/s eta 0:00:58\n",
      "   ---------------- ----------------------- 156.0/376.0 MB 3.9 MB/s eta 0:00:57\n",
      "   ---------------- ----------------------- 156.8/376.0 MB 3.9 MB/s eta 0:00:57\n",
      "   ---------------- ----------------------- 157.8/376.0 MB 3.9 MB/s eta 0:00:57\n",
      "   ---------------- ----------------------- 158.6/376.0 MB 3.9 MB/s eta 0:00:57\n",
      "   ---------------- ----------------------- 159.4/376.0 MB 3.9 MB/s eta 0:00:57\n",
      "   ----------------- ---------------------- 160.2/376.0 MB 3.9 MB/s eta 0:00:56\n",
      "   ----------------- ---------------------- 161.0/376.0 MB 3.9 MB/s eta 0:00:56\n",
      "   ----------------- ---------------------- 162.0/376.0 MB 3.9 MB/s eta 0:00:56\n",
      "   ----------------- ---------------------- 162.8/376.0 MB 3.9 MB/s eta 0:00:56\n",
      "   ----------------- ---------------------- 163.6/376.0 MB 3.9 MB/s eta 0:00:55\n",
      "   ----------------- ---------------------- 164.4/376.0 MB 3.9 MB/s eta 0:00:55\n",
      "   ----------------- ---------------------- 165.2/376.0 MB 3.9 MB/s eta 0:00:55\n",
      "   ----------------- ---------------------- 165.9/376.0 MB 3.9 MB/s eta 0:00:55\n",
      "   ----------------- ---------------------- 166.7/376.0 MB 3.9 MB/s eta 0:00:55\n",
      "   ----------------- ---------------------- 167.5/376.0 MB 3.9 MB/s eta 0:00:55\n",
      "   ----------------- ---------------------- 168.3/376.0 MB 3.9 MB/s eta 0:00:54\n",
      "   ------------------ --------------------- 169.3/376.0 MB 3.9 MB/s eta 0:00:54\n",
      "   ------------------ --------------------- 170.1/376.0 MB 3.9 MB/s eta 0:00:54\n",
      "   ------------------ --------------------- 170.9/376.0 MB 3.9 MB/s eta 0:00:54\n",
      "   ------------------ --------------------- 171.7/376.0 MB 3.9 MB/s eta 0:00:53\n",
      "   ------------------ --------------------- 172.5/376.0 MB 3.9 MB/s eta 0:00:53\n",
      "   ------------------ --------------------- 173.3/376.0 MB 3.9 MB/s eta 0:00:53\n",
      "   ------------------ --------------------- 174.1/376.0 MB 3.9 MB/s eta 0:00:53\n",
      "   ------------------ --------------------- 174.9/376.0 MB 3.9 MB/s eta 0:00:53\n",
      "   ------------------ --------------------- 175.9/376.0 MB 3.9 MB/s eta 0:00:52\n",
      "   ------------------ --------------------- 176.7/376.0 MB 3.9 MB/s eta 0:00:52\n",
      "   ------------------ --------------------- 177.5/376.0 MB 3.9 MB/s eta 0:00:52\n",
      "   ------------------ --------------------- 178.3/376.0 MB 3.9 MB/s eta 0:00:52\n",
      "   ------------------- -------------------- 179.0/376.0 MB 3.9 MB/s eta 0:00:52\n",
      "   ------------------- -------------------- 180.1/376.0 MB 3.9 MB/s eta 0:00:51\n",
      "   ------------------- -------------------- 180.9/376.0 MB 3.9 MB/s eta 0:00:51\n",
      "   ------------------- -------------------- 181.7/376.0 MB 3.9 MB/s eta 0:00:51\n",
      "   ------------------- -------------------- 182.7/376.0 MB 3.9 MB/s eta 0:00:51\n",
      "   ------------------- -------------------- 183.5/376.0 MB 3.9 MB/s eta 0:00:50\n",
      "   ------------------- -------------------- 184.3/376.0 MB 3.9 MB/s eta 0:00:50\n",
      "   ------------------- -------------------- 185.1/376.0 MB 3.9 MB/s eta 0:00:50\n",
      "   ------------------- -------------------- 186.1/376.0 MB 3.9 MB/s eta 0:00:50\n",
      "   ------------------- -------------------- 186.9/376.0 MB 3.9 MB/s eta 0:00:50\n",
      "   ------------------- -------------------- 187.4/376.0 MB 3.8 MB/s eta 0:00:50\n",
      "   -------------------- ------------------- 188.2/376.0 MB 3.8 MB/s eta 0:00:49\n",
      "   -------------------- ------------------- 189.0/376.0 MB 3.8 MB/s eta 0:00:49\n",
      "   -------------------- ------------------- 190.1/376.0 MB 3.8 MB/s eta 0:00:49\n",
      "   -------------------- ------------------- 190.8/376.0 MB 3.8 MB/s eta 0:00:49\n",
      "   -------------------- ------------------- 191.6/376.0 MB 3.8 MB/s eta 0:00:48\n",
      "   -------------------- ------------------- 192.7/376.0 MB 3.8 MB/s eta 0:00:48\n",
      "   -------------------- ------------------- 193.5/376.0 MB 3.8 MB/s eta 0:00:48\n",
      "   -------------------- ------------------- 194.2/376.0 MB 3.8 MB/s eta 0:00:48\n",
      "   -------------------- ------------------- 195.0/376.0 MB 3.8 MB/s eta 0:00:48\n",
      "   -------------------- ------------------- 196.1/376.0 MB 3.8 MB/s eta 0:00:47\n",
      "   -------------------- ------------------- 196.9/376.0 MB 3.8 MB/s eta 0:00:47\n",
      "   --------------------- ------------------ 197.4/376.0 MB 3.8 MB/s eta 0:00:47\n",
      "   --------------------- ------------------ 198.4/376.0 MB 3.8 MB/s eta 0:00:47\n",
      "   --------------------- ------------------ 199.2/376.0 MB 3.8 MB/s eta 0:00:46\n",
      "   --------------------- ------------------ 200.0/376.0 MB 3.8 MB/s eta 0:00:46\n",
      "   --------------------- ------------------ 200.8/376.0 MB 3.8 MB/s eta 0:00:46\n",
      "   --------------------- ------------------ 201.6/376.0 MB 3.8 MB/s eta 0:00:46\n",
      "   --------------------- ------------------ 202.6/376.0 MB 3.8 MB/s eta 0:00:46\n",
      "   --------------------- ------------------ 203.4/376.0 MB 3.8 MB/s eta 0:00:45\n",
      "   --------------------- ------------------ 204.2/376.0 MB 3.8 MB/s eta 0:00:45\n",
      "   --------------------- ------------------ 205.0/376.0 MB 3.8 MB/s eta 0:00:45\n",
      "   --------------------- ------------------ 205.8/376.0 MB 3.8 MB/s eta 0:00:45\n",
      "   --------------------- ------------------ 206.6/376.0 MB 3.8 MB/s eta 0:00:45\n",
      "   ---------------------- ----------------- 207.6/376.0 MB 3.8 MB/s eta 0:00:44\n",
      "   ---------------------- ----------------- 208.4/376.0 MB 3.8 MB/s eta 0:00:44\n",
      "   ---------------------- ----------------- 209.2/376.0 MB 3.8 MB/s eta 0:00:44\n",
      "   ---------------------- ----------------- 210.0/376.0 MB 3.8 MB/s eta 0:00:44\n",
      "   ---------------------- ----------------- 210.8/376.0 MB 3.8 MB/s eta 0:00:44\n",
      "   ---------------------- ----------------- 211.6/376.0 MB 3.8 MB/s eta 0:00:43\n",
      "   ---------------------- ----------------- 212.3/376.0 MB 3.8 MB/s eta 0:00:43\n",
      "   ---------------------- ----------------- 213.1/376.0 MB 3.8 MB/s eta 0:00:43\n",
      "   ---------------------- ----------------- 213.9/376.0 MB 3.8 MB/s eta 0:00:43\n",
      "   ---------------------- ----------------- 215.0/376.0 MB 3.8 MB/s eta 0:00:43\n",
      "   ---------------------- ----------------- 215.7/376.0 MB 3.8 MB/s eta 0:00:42\n",
      "   ----------------------- ---------------- 216.5/376.0 MB 3.8 MB/s eta 0:00:42\n",
      "   ----------------------- ---------------- 217.3/376.0 MB 3.8 MB/s eta 0:00:42\n",
      "   ----------------------- ---------------- 218.1/376.0 MB 3.8 MB/s eta 0:00:42\n",
      "   ----------------------- ---------------- 218.9/376.0 MB 3.8 MB/s eta 0:00:42\n",
      "   ----------------------- ---------------- 219.7/376.0 MB 3.8 MB/s eta 0:00:42\n",
      "   ----------------------- ---------------- 220.5/376.0 MB 3.8 MB/s eta 0:00:41\n",
      "   ----------------------- ---------------- 221.2/376.0 MB 3.8 MB/s eta 0:00:41\n",
      "   ----------------------- ---------------- 222.0/376.0 MB 3.8 MB/s eta 0:00:41\n",
      "   ----------------------- ---------------- 223.1/376.0 MB 3.8 MB/s eta 0:00:41\n",
      "   ----------------------- ---------------- 223.9/376.0 MB 3.8 MB/s eta 0:00:40\n",
      "   ----------------------- ---------------- 224.7/376.0 MB 3.8 MB/s eta 0:00:40\n",
      "   ----------------------- ---------------- 225.4/376.0 MB 3.8 MB/s eta 0:00:40\n",
      "   ------------------------ --------------- 226.2/376.0 MB 3.8 MB/s eta 0:00:40\n",
      "   ------------------------ --------------- 226.8/376.0 MB 3.8 MB/s eta 0:00:40\n",
      "   ------------------------ --------------- 227.5/376.0 MB 3.8 MB/s eta 0:00:40\n",
      "   ------------------------ --------------- 228.3/376.0 MB 3.8 MB/s eta 0:00:39\n",
      "   ------------------------ --------------- 229.4/376.0 MB 3.8 MB/s eta 0:00:39\n",
      "   ------------------------ --------------- 230.2/376.0 MB 3.8 MB/s eta 0:00:39\n",
      "   ------------------------ --------------- 230.9/376.0 MB 3.8 MB/s eta 0:00:39\n",
      "   ------------------------ --------------- 231.7/376.0 MB 3.8 MB/s eta 0:00:39\n",
      "   ------------------------ --------------- 232.5/376.0 MB 3.8 MB/s eta 0:00:38\n",
      "   ------------------------ --------------- 233.3/376.0 MB 3.8 MB/s eta 0:00:38\n",
      "   ------------------------ --------------- 234.1/376.0 MB 3.8 MB/s eta 0:00:38\n",
      "   ------------------------ --------------- 234.9/376.0 MB 3.8 MB/s eta 0:00:38\n",
      "   ------------------------- -------------- 235.7/376.0 MB 3.8 MB/s eta 0:00:38\n",
      "   ------------------------- -------------- 236.5/376.0 MB 3.8 MB/s eta 0:00:37\n",
      "   ------------------------- -------------- 237.2/376.0 MB 3.8 MB/s eta 0:00:37\n",
      "   ------------------------- -------------- 238.0/376.0 MB 3.8 MB/s eta 0:00:37\n",
      "   ------------------------- -------------- 239.1/376.0 MB 3.8 MB/s eta 0:00:37\n",
      "   ------------------------- -------------- 239.9/376.0 MB 3.8 MB/s eta 0:00:36\n",
      "   ------------------------- -------------- 240.6/376.0 MB 3.8 MB/s eta 0:00:36\n",
      "   ------------------------- -------------- 241.4/376.0 MB 3.8 MB/s eta 0:00:36\n",
      "   ------------------------- -------------- 242.0/376.0 MB 3.8 MB/s eta 0:00:36\n",
      "   ------------------------- -------------- 243.0/376.0 MB 3.8 MB/s eta 0:00:36\n",
      "   ------------------------- -------------- 243.8/376.0 MB 3.8 MB/s eta 0:00:35\n",
      "   -------------------------- ------------- 244.8/376.0 MB 3.8 MB/s eta 0:00:35\n",
      "   -------------------------- ------------- 245.6/376.0 MB 3.8 MB/s eta 0:00:35\n",
      "   -------------------------- ------------- 246.4/376.0 MB 3.8 MB/s eta 0:00:35\n",
      "   -------------------------- ------------- 247.2/376.0 MB 3.8 MB/s eta 0:00:35\n",
      "   -------------------------- ------------- 248.0/376.0 MB 3.8 MB/s eta 0:00:34\n",
      "   -------------------------- ------------- 249.0/376.0 MB 3.8 MB/s eta 0:00:34\n",
      "   -------------------------- ------------- 249.8/376.0 MB 3.8 MB/s eta 0:00:34\n",
      "   -------------------------- ------------- 250.6/376.0 MB 3.8 MB/s eta 0:00:34\n",
      "   -------------------------- ------------- 251.4/376.0 MB 3.8 MB/s eta 0:00:33\n",
      "   -------------------------- ------------- 252.2/376.0 MB 3.8 MB/s eta 0:00:33\n",
      "   -------------------------- ------------- 253.0/376.0 MB 3.8 MB/s eta 0:00:33\n",
      "   -------------------------- ------------- 253.8/376.0 MB 3.8 MB/s eta 0:00:33\n",
      "   --------------------------- ------------ 254.5/376.0 MB 3.8 MB/s eta 0:00:33\n",
      "   --------------------------- ------------ 255.3/376.0 MB 3.8 MB/s eta 0:00:32\n",
      "   --------------------------- ------------ 256.4/376.0 MB 3.8 MB/s eta 0:00:32\n",
      "   --------------------------- ------------ 257.2/376.0 MB 3.8 MB/s eta 0:00:32\n",
      "   --------------------------- ------------ 257.9/376.0 MB 3.8 MB/s eta 0:00:32\n",
      "   --------------------------- ------------ 258.7/376.0 MB 3.8 MB/s eta 0:00:31\n",
      "   --------------------------- ------------ 259.5/376.0 MB 3.8 MB/s eta 0:00:31\n",
      "   --------------------------- ------------ 260.3/376.0 MB 3.8 MB/s eta 0:00:31\n",
      "   --------------------------- ------------ 261.1/376.0 MB 3.8 MB/s eta 0:00:31\n",
      "   --------------------------- ------------ 261.9/376.0 MB 3.8 MB/s eta 0:00:31\n",
      "   --------------------------- ------------ 262.9/376.0 MB 3.8 MB/s eta 0:00:30\n",
      "   ---------------------------- ----------- 263.7/376.0 MB 3.8 MB/s eta 0:00:30\n",
      "   ---------------------------- ----------- 264.5/376.0 MB 3.8 MB/s eta 0:00:30\n",
      "   ---------------------------- ----------- 265.3/376.0 MB 3.8 MB/s eta 0:00:29\n",
      "   ---------------------------- ----------- 266.1/376.0 MB 3.8 MB/s eta 0:00:29\n",
      "   ---------------------------- ----------- 266.9/376.0 MB 3.8 MB/s eta 0:00:29\n",
      "   ---------------------------- ----------- 267.9/376.0 MB 3.8 MB/s eta 0:00:29\n",
      "   ---------------------------- ----------- 268.7/376.0 MB 3.8 MB/s eta 0:00:28\n",
      "   ---------------------------- ----------- 269.5/376.0 MB 3.8 MB/s eta 0:00:28\n",
      "   ---------------------------- ----------- 270.3/376.0 MB 3.8 MB/s eta 0:00:28\n",
      "   ---------------------------- ----------- 271.1/376.0 MB 3.8 MB/s eta 0:00:28\n",
      "   ---------------------------- ----------- 271.8/376.0 MB 3.8 MB/s eta 0:00:28\n",
      "   ----------------------------- ---------- 272.6/376.0 MB 3.8 MB/s eta 0:00:27\n",
      "   ----------------------------- ---------- 273.4/376.0 MB 3.8 MB/s eta 0:00:27\n",
      "   ----------------------------- ---------- 274.2/376.0 MB 3.8 MB/s eta 0:00:27\n",
      "   ----------------------------- ---------- 275.0/376.0 MB 3.8 MB/s eta 0:00:27\n",
      "   ----------------------------- ---------- 276.0/376.0 MB 3.8 MB/s eta 0:00:27\n",
      "   ----------------------------- ---------- 276.8/376.0 MB 3.8 MB/s eta 0:00:26\n",
      "   ----------------------------- ---------- 277.6/376.0 MB 3.8 MB/s eta 0:00:26\n",
      "   ----------------------------- ---------- 278.4/376.0 MB 3.8 MB/s eta 0:00:26\n",
      "   ----------------------------- ---------- 279.4/376.0 MB 3.8 MB/s eta 0:00:26\n",
      "   ----------------------------- ---------- 280.2/376.0 MB 3.8 MB/s eta 0:00:26\n",
      "   ----------------------------- ---------- 281.0/376.0 MB 3.8 MB/s eta 0:00:25\n",
      "   ----------------------------- ---------- 281.8/376.0 MB 3.8 MB/s eta 0:00:25\n",
      "   ------------------------------ --------- 282.6/376.0 MB 3.8 MB/s eta 0:00:25\n",
      "   ------------------------------ --------- 283.4/376.0 MB 3.8 MB/s eta 0:00:25\n",
      "   ------------------------------ --------- 284.2/376.0 MB 3.8 MB/s eta 0:00:24\n",
      "   ------------------------------ --------- 285.0/376.0 MB 3.8 MB/s eta 0:00:24\n",
      "   ------------------------------ --------- 285.7/376.0 MB 3.8 MB/s eta 0:00:24\n",
      "   ------------------------------ --------- 286.8/376.0 MB 3.8 MB/s eta 0:00:24\n",
      "   ------------------------------ --------- 287.6/376.0 MB 3.8 MB/s eta 0:00:24\n",
      "   ------------------------------ --------- 288.4/376.0 MB 3.8 MB/s eta 0:00:23\n",
      "   ------------------------------ --------- 289.1/376.0 MB 3.8 MB/s eta 0:00:23\n",
      "   ------------------------------ --------- 289.9/376.0 MB 3.8 MB/s eta 0:00:23\n",
      "   ------------------------------ --------- 291.0/376.0 MB 3.8 MB/s eta 0:00:23\n",
      "   ------------------------------- -------- 291.8/376.0 MB 3.8 MB/s eta 0:00:23\n",
      "   ------------------------------- -------- 292.6/376.0 MB 3.8 MB/s eta 0:00:22\n",
      "   ------------------------------- -------- 293.3/376.0 MB 3.8 MB/s eta 0:00:22\n",
      "   ------------------------------- -------- 294.4/376.0 MB 3.8 MB/s eta 0:00:22\n",
      "   ------------------------------- -------- 295.2/376.0 MB 3.8 MB/s eta 0:00:22\n",
      "   ------------------------------- -------- 296.0/376.0 MB 3.8 MB/s eta 0:00:21\n",
      "   ------------------------------- -------- 296.7/376.0 MB 3.8 MB/s eta 0:00:21\n",
      "   ------------------------------- -------- 297.5/376.0 MB 3.8 MB/s eta 0:00:21\n",
      "   ------------------------------- -------- 298.3/376.0 MB 3.8 MB/s eta 0:00:21\n",
      "   ------------------------------- -------- 299.4/376.0 MB 3.8 MB/s eta 0:00:21\n",
      "   ------------------------------- -------- 300.2/376.0 MB 3.8 MB/s eta 0:00:20\n",
      "   -------------------------------- ------- 300.9/376.0 MB 3.8 MB/s eta 0:00:20\n",
      "   -------------------------------- ------- 301.7/376.0 MB 3.8 MB/s eta 0:00:20\n",
      "   -------------------------------- ------- 302.5/376.0 MB 3.8 MB/s eta 0:00:20\n",
      "   -------------------------------- ------- 303.6/376.0 MB 3.8 MB/s eta 0:00:19\n",
      "   -------------------------------- ------- 303.8/376.0 MB 3.8 MB/s eta 0:00:19\n",
      "   -------------------------------- ------- 305.1/376.0 MB 3.8 MB/s eta 0:00:19\n",
      "   -------------------------------- ------- 305.9/376.0 MB 3.8 MB/s eta 0:00:19\n",
      "   -------------------------------- ------- 307.0/376.0 MB 3.8 MB/s eta 0:00:19\n",
      "   -------------------------------- ------- 307.8/376.0 MB 3.8 MB/s eta 0:00:18\n",
      "   -------------------------------- ------- 308.5/376.0 MB 3.8 MB/s eta 0:00:18\n",
      "   -------------------------------- ------- 309.3/376.0 MB 3.8 MB/s eta 0:00:18\n",
      "   -------------------------------- ------- 310.1/376.0 MB 3.8 MB/s eta 0:00:18\n",
      "   --------------------------------- ------ 310.9/376.0 MB 3.8 MB/s eta 0:00:17\n",
      "   --------------------------------- ------ 312.0/376.0 MB 3.8 MB/s eta 0:00:17\n",
      "   --------------------------------- ------ 312.7/376.0 MB 3.8 MB/s eta 0:00:17\n",
      "   --------------------------------- ------ 313.5/376.0 MB 3.8 MB/s eta 0:00:17\n",
      "   --------------------------------- ------ 314.3/376.0 MB 3.8 MB/s eta 0:00:17\n",
      "   --------------------------------- ------ 315.4/376.0 MB 3.8 MB/s eta 0:00:16\n",
      "   --------------------------------- ------ 316.1/376.0 MB 3.8 MB/s eta 0:00:16\n",
      "   --------------------------------- ------ 316.9/376.0 MB 3.8 MB/s eta 0:00:16\n",
      "   --------------------------------- ------ 317.7/376.0 MB 3.8 MB/s eta 0:00:16\n",
      "   --------------------------------- ------ 318.8/376.0 MB 3.8 MB/s eta 0:00:15\n",
      "   --------------------------------- ------ 319.6/376.0 MB 3.8 MB/s eta 0:00:15\n",
      "   ---------------------------------- ----- 320.3/376.0 MB 3.8 MB/s eta 0:00:15\n",
      "   ---------------------------------- ----- 321.1/376.0 MB 3.8 MB/s eta 0:00:15\n",
      "   ---------------------------------- ----- 321.7/376.0 MB 3.8 MB/s eta 0:00:15\n",
      "   ---------------------------------- ----- 322.7/376.0 MB 3.8 MB/s eta 0:00:14\n",
      "   ---------------------------------- ----- 323.5/376.0 MB 3.8 MB/s eta 0:00:14\n",
      "   ---------------------------------- ----- 324.3/376.0 MB 3.8 MB/s eta 0:00:14\n",
      "   ---------------------------------- ----- 325.1/376.0 MB 3.8 MB/s eta 0:00:14\n",
      "   ---------------------------------- ----- 326.1/376.0 MB 3.8 MB/s eta 0:00:13\n",
      "   ---------------------------------- ----- 326.9/376.0 MB 3.8 MB/s eta 0:00:13\n",
      "   ---------------------------------- ----- 327.7/376.0 MB 3.8 MB/s eta 0:00:13\n",
      "   ---------------------------------- ----- 328.2/376.0 MB 3.8 MB/s eta 0:00:13\n",
      "   ----------------------------------- ---- 329.0/376.0 MB 3.8 MB/s eta 0:00:13\n",
      "   ----------------------------------- ---- 329.8/376.0 MB 3.8 MB/s eta 0:00:13\n",
      "   ----------------------------------- ---- 330.8/376.0 MB 3.8 MB/s eta 0:00:12\n",
      "   ----------------------------------- ---- 331.6/376.0 MB 3.8 MB/s eta 0:00:12\n",
      "   ----------------------------------- ---- 332.4/376.0 MB 3.8 MB/s eta 0:00:12\n",
      "   ----------------------------------- ---- 333.2/376.0 MB 3.8 MB/s eta 0:00:12\n",
      "   ----------------------------------- ---- 334.2/376.0 MB 3.8 MB/s eta 0:00:11\n",
      "   ----------------------------------- ---- 335.0/376.0 MB 3.8 MB/s eta 0:00:11\n",
      "   ----------------------------------- ---- 335.8/376.0 MB 3.8 MB/s eta 0:00:11\n",
      "   ----------------------------------- ---- 336.6/376.0 MB 3.9 MB/s eta 0:00:11\n",
      "   ----------------------------------- ---- 337.4/376.0 MB 3.8 MB/s eta 0:00:11\n",
      "   ----------------------------------- ---- 338.2/376.0 MB 3.9 MB/s eta 0:00:10\n",
      "   ------------------------------------ --- 339.2/376.0 MB 3.9 MB/s eta 0:00:10\n",
      "   ------------------------------------ --- 340.0/376.0 MB 3.9 MB/s eta 0:00:10\n",
      "   ------------------------------------ --- 340.8/376.0 MB 3.9 MB/s eta 0:00:10\n",
      "   ------------------------------------ --- 341.6/376.0 MB 3.9 MB/s eta 0:00:09\n",
      "   ------------------------------------ --- 342.4/376.0 MB 3.9 MB/s eta 0:00:09\n",
      "   ------------------------------------ --- 343.1/376.0 MB 3.9 MB/s eta 0:00:09\n",
      "   ------------------------------------ --- 343.9/376.0 MB 3.9 MB/s eta 0:00:09\n",
      "   ------------------------------------ --- 344.7/376.0 MB 3.9 MB/s eta 0:00:09\n",
      "   ------------------------------------ --- 345.5/376.0 MB 3.9 MB/s eta 0:00:08\n",
      "   ------------------------------------ --- 346.3/376.0 MB 3.9 MB/s eta 0:00:08\n",
      "   ------------------------------------ --- 347.1/376.0 MB 3.9 MB/s eta 0:00:08\n",
      "   ------------------------------------- -- 347.9/376.0 MB 3.9 MB/s eta 0:00:08\n",
      "   ------------------------------------- -- 348.7/376.0 MB 3.9 MB/s eta 0:00:08\n",
      "   ------------------------------------- -- 349.4/376.0 MB 3.9 MB/s eta 0:00:07\n",
      "   ------------------------------------- -- 350.2/376.0 MB 3.8 MB/s eta 0:00:07\n",
      "   ------------------------------------- -- 351.0/376.0 MB 3.8 MB/s eta 0:00:07\n",
      "   ------------------------------------- -- 351.8/376.0 MB 3.8 MB/s eta 0:00:07\n",
      "   ------------------------------------- -- 352.6/376.0 MB 3.8 MB/s eta 0:00:07\n",
      "   ------------------------------------- -- 353.4/376.0 MB 3.8 MB/s eta 0:00:06\n",
      "   ------------------------------------- -- 354.2/376.0 MB 3.8 MB/s eta 0:00:06\n",
      "   ------------------------------------- -- 354.9/376.0 MB 3.8 MB/s eta 0:00:06\n",
      "   ------------------------------------- -- 356.0/376.0 MB 3.8 MB/s eta 0:00:06\n",
      "   ------------------------------------- -- 356.8/376.0 MB 3.9 MB/s eta 0:00:05\n",
      "   -------------------------------------- - 357.6/376.0 MB 3.9 MB/s eta 0:00:05\n",
      "   -------------------------------------- - 358.4/376.0 MB 3.9 MB/s eta 0:00:05\n",
      "   -------------------------------------- - 359.1/376.0 MB 3.9 MB/s eta 0:00:05\n",
      "   -------------------------------------- - 360.2/376.0 MB 3.9 MB/s eta 0:00:05\n",
      "   -------------------------------------- - 360.7/376.0 MB 3.8 MB/s eta 0:00:04\n",
      "   -------------------------------------- - 361.8/376.0 MB 3.9 MB/s eta 0:00:04\n",
      "   -------------------------------------- - 362.5/376.0 MB 3.9 MB/s eta 0:00:04\n",
      "   -------------------------------------- - 363.3/376.0 MB 3.9 MB/s eta 0:00:04\n",
      "   -------------------------------------- - 364.4/376.0 MB 3.9 MB/s eta 0:00:04\n",
      "   -------------------------------------- - 365.2/376.0 MB 3.8 MB/s eta 0:00:03\n",
      "   -------------------------------------- - 366.0/376.0 MB 3.8 MB/s eta 0:00:03\n",
      "   ---------------------------------------  366.7/376.0 MB 3.9 MB/s eta 0:00:03\n",
      "   ---------------------------------------  367.5/376.0 MB 3.9 MB/s eta 0:00:03\n",
      "   ---------------------------------------  368.6/376.0 MB 3.9 MB/s eta 0:00:02\n",
      "   ---------------------------------------  369.4/376.0 MB 3.9 MB/s eta 0:00:02\n",
      "   ---------------------------------------  370.1/376.0 MB 3.9 MB/s eta 0:00:02\n",
      "   ---------------------------------------  370.9/376.0 MB 3.9 MB/s eta 0:00:02\n",
      "   ---------------------------------------  371.7/376.0 MB 3.9 MB/s eta 0:00:02\n",
      "   ---------------------------------------  372.5/376.0 MB 3.9 MB/s eta 0:00:01\n",
      "   ---------------------------------------  373.6/376.0 MB 3.9 MB/s eta 0:00:01\n",
      "   ---------------------------------------  374.3/376.0 MB 3.9 MB/s eta 0:00:01\n",
      "   ---------------------------------------  375.1/376.0 MB 3.9 MB/s eta 0:00:01\n",
      "   ---------------------------------------  375.9/376.0 MB 3.8 MB/s eta 0:00:01\n",
      "   ---------------------------------------  375.9/376.0 MB 3.8 MB/s eta 0:00:01\n",
      "   ---------------------------------------  375.9/376.0 MB 3.8 MB/s eta 0:00:01\n",
      "   ---------------------------------------  375.9/376.0 MB 3.8 MB/s eta 0:00:01\n",
      "   ---------------------------------------  375.9/376.0 MB 3.8 MB/s eta 0:00:01\n",
      "   ---------------------------------------  375.9/376.0 MB 3.8 MB/s eta 0:00:01\n",
      "   ---------------------------------------  375.9/376.0 MB 3.8 MB/s eta 0:00:01\n",
      "   ---------------------------------------  375.9/376.0 MB 3.8 MB/s eta 0:00:01\n",
      "   ---------------------------------------  375.9/376.0 MB 3.8 MB/s eta 0:00:01\n",
      "   ---------------------------------------  375.9/376.0 MB 3.8 MB/s eta 0:00:01\n",
      "   ---------------------------------------  375.9/376.0 MB 3.8 MB/s eta 0:00:01\n",
      "   ---------------------------------------- 376.0/376.0 MB 3.6 MB/s eta 0:00:00\n",
      "Downloading absl_py-2.2.2-py3-none-any.whl (135 kB)\n",
      "Downloading astunparse-1.6.3-py2.py3-none-any.whl (12 kB)\n",
      "Downloading flatbuffers-25.2.10-py2.py3-none-any.whl (30 kB)\n",
      "Downloading gast-0.6.0-py3-none-any.whl (21 kB)\n",
      "Downloading google_pasta-0.2.0-py3-none-any.whl (57 kB)\n",
      "Downloading grpcio-1.71.0-cp312-cp312-win_amd64.whl (4.3 MB)\n",
      "   ---------------------------------------- 0.0/4.3 MB ? eta -:--:--\n",
      "   --------- ------------------------------ 1.0/4.3 MB 5.6 MB/s eta 0:00:01\n",
      "   ------------------- -------------------- 2.1/4.3 MB 4.3 MB/s eta 0:00:01\n",
      "   -------------------------- ------------- 2.9/4.3 MB 4.3 MB/s eta 0:00:01\n",
      "   ---------------------------------- ----- 3.7/4.3 MB 4.2 MB/s eta 0:00:01\n",
      "   ---------------------------------------- 4.3/4.3 MB 3.8 MB/s eta 0:00:00\n",
      "Downloading keras-3.9.2-py3-none-any.whl (1.3 MB)\n",
      "   ---------------------------------------- 0.0/1.3 MB ? eta -:--:--\n",
      "   ------------------------------- -------- 1.0/1.3 MB 6.3 MB/s eta 0:00:01\n",
      "   ---------------------------------------- 1.3/1.3 MB 4.3 MB/s eta 0:00:00\n",
      "Downloading libclang-18.1.1-py2.py3-none-win_amd64.whl (26.4 MB)\n",
      "   ---------------------------------------- 0.0/26.4 MB ? eta -:--:--\n",
      "   - -------------------------------------- 1.0/26.4 MB 5.6 MB/s eta 0:00:05\n",
      "   -- ------------------------------------- 1.8/26.4 MB 4.6 MB/s eta 0:00:06\n",
      "   --- ------------------------------------ 2.6/26.4 MB 4.3 MB/s eta 0:00:06\n",
      "   ----- ---------------------------------- 3.7/26.4 MB 4.2 MB/s eta 0:00:06\n",
      "   ------ --------------------------------- 4.5/26.4 MB 4.1 MB/s eta 0:00:06\n",
      "   ------- -------------------------------- 5.2/26.4 MB 4.1 MB/s eta 0:00:06\n",
      "   --------- ------------------------------ 6.0/26.4 MB 4.1 MB/s eta 0:00:06\n",
      "   ---------- ----------------------------- 6.8/26.4 MB 4.1 MB/s eta 0:00:05\n",
      "   ----------- ---------------------------- 7.9/26.4 MB 4.0 MB/s eta 0:00:05\n",
      "   ------------- -------------------------- 8.7/26.4 MB 4.0 MB/s eta 0:00:05\n",
      "   -------------- ------------------------- 9.4/26.4 MB 4.0 MB/s eta 0:00:05\n",
      "   --------------- ------------------------ 10.2/26.4 MB 4.0 MB/s eta 0:00:05\n",
      "   ----------------- ---------------------- 11.3/26.4 MB 4.0 MB/s eta 0:00:04\n",
      "   ------------------ --------------------- 12.1/26.4 MB 4.0 MB/s eta 0:00:04\n",
      "   ------------------- -------------------- 12.8/26.4 MB 4.0 MB/s eta 0:00:04\n",
      "   -------------------- ------------------- 13.6/26.4 MB 4.0 MB/s eta 0:00:04\n",
      "   --------------------- ------------------ 14.4/26.4 MB 4.0 MB/s eta 0:00:04\n",
      "   ----------------------- ---------------- 15.2/26.4 MB 4.0 MB/s eta 0:00:03\n",
      "   ------------------------ --------------- 16.0/26.4 MB 3.9 MB/s eta 0:00:03\n",
      "   ------------------------- -------------- 16.8/26.4 MB 3.9 MB/s eta 0:00:03\n",
      "   -------------------------- ------------- 17.6/26.4 MB 3.9 MB/s eta 0:00:03\n",
      "   ---------------------------- ----------- 18.6/26.4 MB 3.9 MB/s eta 0:00:02\n",
      "   ----------------------------- ---------- 19.4/26.4 MB 3.9 MB/s eta 0:00:02\n",
      "   ------------------------------ --------- 20.2/26.4 MB 3.9 MB/s eta 0:00:02\n",
      "   ------------------------------- -------- 21.0/26.4 MB 3.9 MB/s eta 0:00:02\n",
      "   -------------------------------- ------- 21.8/26.4 MB 3.9 MB/s eta 0:00:02\n",
      "   ---------------------------------- ----- 22.5/26.4 MB 3.9 MB/s eta 0:00:01\n",
      "   ----------------------------------- ---- 23.3/26.4 MB 3.9 MB/s eta 0:00:01\n",
      "   ------------------------------------ --- 24.1/26.4 MB 3.9 MB/s eta 0:00:01\n",
      "   -------------------------------------- - 25.2/26.4 MB 3.9 MB/s eta 0:00:01\n",
      "   ---------------------------------------  26.0/26.4 MB 3.9 MB/s eta 0:00:01\n",
      "   ---------------------------------------  26.2/26.4 MB 3.9 MB/s eta 0:00:01\n",
      "   ---------------------------------------- 26.4/26.4 MB 3.8 MB/s eta 0:00:00\n",
      "Downloading ml_dtypes-0.5.1-cp312-cp312-win_amd64.whl (210 kB)\n",
      "Downloading opt_einsum-3.4.0-py3-none-any.whl (71 kB)\n",
      "Downloading tensorboard-2.19.0-py3-none-any.whl (5.5 MB)\n",
      "   ---------------------------------------- 0.0/5.5 MB ? eta -:--:--\n",
      "   ------- -------------------------------- 1.0/5.5 MB 5.0 MB/s eta 0:00:01\n",
      "   ------------- -------------------------- 1.8/5.5 MB 4.2 MB/s eta 0:00:01\n",
      "   ------------------- -------------------- 2.6/5.5 MB 4.1 MB/s eta 0:00:01\n",
      "   -------------------------- ------------- 3.7/5.5 MB 4.0 MB/s eta 0:00:01\n",
      "   -------------------------------- ------- 4.5/5.5 MB 4.0 MB/s eta 0:00:01\n",
      "   -------------------------------------- - 5.2/5.5 MB 4.0 MB/s eta 0:00:01\n",
      "   ---------------------------------------- 5.5/5.5 MB 3.8 MB/s eta 0:00:00\n",
      "Downloading termcolor-3.1.0-py3-none-any.whl (7.7 kB)\n",
      "Downloading tensorboard_data_server-0.7.2-py3-none-any.whl (2.4 kB)\n",
      "Downloading namex-0.0.9-py3-none-any.whl (5.8 kB)\n",
      "Downloading optree-0.15.0-cp312-cp312-win_amd64.whl (307 kB)\n",
      "Installing collected packages: namex, libclang, flatbuffers, termcolor, tensorboard-data-server, optree, opt-einsum, ml-dtypes, grpcio, google-pasta, gast, astunparse, absl-py, tensorboard, keras, tensorflow\n",
      "Successfully installed absl-py-2.2.2 astunparse-1.6.3 flatbuffers-25.2.10 gast-0.6.0 google-pasta-0.2.0 grpcio-1.71.0 keras-3.9.2 libclang-18.1.1 ml-dtypes-0.5.1 namex-0.0.9 opt-einsum-3.4.0 optree-0.15.0 tensorboard-2.19.0 tensorboard-data-server-0.7.2 tensorflow-2.19.0 termcolor-3.1.0\n",
      "Note: you may need to restart the kernel to use updated packages.\n"
     ]
    }
   ],
   "source": [
    "pip install tensorflow\n"
   ]
  },
  {
   "cell_type": "code",
   "execution_count": 36,
   "id": "782557ba-44f0-4c95-bbd1-e70852132061",
   "metadata": {},
   "outputs": [
    {
     "name": "stdout",
     "output_type": "stream",
     "text": [
      "Collecting scikeras\n",
      "  Downloading scikeras-0.13.0-py3-none-any.whl.metadata (3.1 kB)\n",
      "Requirement already satisfied: keras>=3.2.0 in f:\\new folder\\lib\\site-packages (from scikeras) (3.9.2)\n",
      "Requirement already satisfied: scikit-learn>=1.4.2 in f:\\new folder\\lib\\site-packages (from scikeras) (1.5.1)\n",
      "Requirement already satisfied: absl-py in f:\\new folder\\lib\\site-packages (from keras>=3.2.0->scikeras) (2.2.2)\n",
      "Requirement already satisfied: numpy in f:\\new folder\\lib\\site-packages (from keras>=3.2.0->scikeras) (1.26.4)\n",
      "Requirement already satisfied: rich in f:\\new folder\\lib\\site-packages (from keras>=3.2.0->scikeras) (13.7.1)\n",
      "Requirement already satisfied: namex in f:\\new folder\\lib\\site-packages (from keras>=3.2.0->scikeras) (0.0.9)\n",
      "Requirement already satisfied: h5py in f:\\new folder\\lib\\site-packages (from keras>=3.2.0->scikeras) (3.11.0)\n",
      "Requirement already satisfied: optree in f:\\new folder\\lib\\site-packages (from keras>=3.2.0->scikeras) (0.15.0)\n",
      "Requirement already satisfied: ml-dtypes in f:\\new folder\\lib\\site-packages (from keras>=3.2.0->scikeras) (0.5.1)\n",
      "Requirement already satisfied: packaging in f:\\new folder\\lib\\site-packages (from keras>=3.2.0->scikeras) (24.1)\n",
      "Requirement already satisfied: scipy>=1.6.0 in f:\\new folder\\lib\\site-packages (from scikit-learn>=1.4.2->scikeras) (1.13.1)\n",
      "Requirement already satisfied: joblib>=1.2.0 in f:\\new folder\\lib\\site-packages (from scikit-learn>=1.4.2->scikeras) (1.4.2)\n",
      "Requirement already satisfied: threadpoolctl>=3.1.0 in f:\\new folder\\lib\\site-packages (from scikit-learn>=1.4.2->scikeras) (3.5.0)\n",
      "Requirement already satisfied: typing-extensions>=4.5.0 in f:\\new folder\\lib\\site-packages (from optree->keras>=3.2.0->scikeras) (4.11.0)\n",
      "Requirement already satisfied: markdown-it-py>=2.2.0 in f:\\new folder\\lib\\site-packages (from rich->keras>=3.2.0->scikeras) (2.2.0)\n",
      "Requirement already satisfied: pygments<3.0.0,>=2.13.0 in f:\\new folder\\lib\\site-packages (from rich->keras>=3.2.0->scikeras) (2.15.1)\n",
      "Requirement already satisfied: mdurl~=0.1 in f:\\new folder\\lib\\site-packages (from markdown-it-py>=2.2.0->rich->keras>=3.2.0->scikeras) (0.1.0)\n",
      "Downloading scikeras-0.13.0-py3-none-any.whl (26 kB)\n",
      "Installing collected packages: scikeras\n",
      "Successfully installed scikeras-0.13.0\n",
      "Note: you may need to restart the kernel to use updated packages.\n"
     ]
    }
   ],
   "source": [
    "pip install scikeras\n"
   ]
  },
  {
   "cell_type": "code",
   "execution_count": 37,
   "id": "0dd61f14-8537-475c-891d-5cea31ee4305",
   "metadata": {},
   "outputs": [],
   "source": [
    "from scikeras.wrappers import KerasClassifier\n",
    "from tensorflow.keras.models import Sequential\n",
    "from tensorflow.keras.layers import Dense\n",
    "from tensorflow.keras.utils import to_categorical\n"
   ]
  },
  {
   "cell_type": "code",
   "execution_count": 41,
   "id": "673ef0b9-b1c6-4eed-bddf-b30475caef07",
   "metadata": {},
   "outputs": [],
   "source": [
    "def baseline_model():\n",
    "    model = Sequential()\n",
    "    model.add(Dense(64, input_dim=X_train.shape[1], activation='relu'))\n",
    "    model.add(Dense(32, activation='relu'))\n",
    "    model.add(Dense(1, activation='sigmoid'))  # Only 1 output node\n",
    "    model.compile(loss='binary_crossentropy', optimizer='adam', metrics=['accuracy'])\n",
    "    return model\n"
   ]
  },
  {
   "cell_type": "code",
   "execution_count": 42,
   "id": "b0cbd3ea-5b66-4ec5-a84b-c5f32dd7c9b8",
   "metadata": {},
   "outputs": [
    {
     "name": "stdout",
     "output_type": "stream",
     "text": [
      "Epoch 1/10\n",
      "\u001b[1m5519/5519\u001b[0m \u001b[32m━━━━━━━━━━━━━━━━━━━━\u001b[0m\u001b[37m\u001b[0m \u001b[1m25s\u001b[0m 4ms/step - accuracy: 0.8968 - loss: 0.2925\n",
      "Epoch 2/10\n",
      "\u001b[1m5519/5519\u001b[0m \u001b[32m━━━━━━━━━━━━━━━━━━━━\u001b[0m\u001b[37m\u001b[0m \u001b[1m19s\u001b[0m 3ms/step - accuracy: 0.9069 - loss: 0.2172\n",
      "Epoch 3/10\n",
      "\u001b[1m5519/5519\u001b[0m \u001b[32m━━━━━━━━━━━━━━━━━━━━\u001b[0m\u001b[37m\u001b[0m \u001b[1m19s\u001b[0m 3ms/step - accuracy: 0.9063 - loss: 0.2099\n",
      "Epoch 4/10\n",
      "\u001b[1m5519/5519\u001b[0m \u001b[32m━━━━━━━━━━━━━━━━━━━━\u001b[0m\u001b[37m\u001b[0m \u001b[1m19s\u001b[0m 3ms/step - accuracy: 0.9110 - loss: 0.2088\n",
      "Epoch 5/10\n",
      "\u001b[1m5519/5519\u001b[0m \u001b[32m━━━━━━━━━━━━━━━━━━━━\u001b[0m\u001b[37m\u001b[0m \u001b[1m19s\u001b[0m 3ms/step - accuracy: 0.9061 - loss: 0.2100\n",
      "Epoch 6/10\n",
      "\u001b[1m5519/5519\u001b[0m \u001b[32m━━━━━━━━━━━━━━━━━━━━\u001b[0m\u001b[37m\u001b[0m \u001b[1m19s\u001b[0m 3ms/step - accuracy: 0.9085 - loss: 0.2058\n",
      "Epoch 7/10\n",
      "\u001b[1m5519/5519\u001b[0m \u001b[32m━━━━━━━━━━━━━━━━━━━━\u001b[0m\u001b[37m\u001b[0m \u001b[1m19s\u001b[0m 3ms/step - accuracy: 0.9108 - loss: 0.2010\n",
      "Epoch 8/10\n",
      "\u001b[1m5519/5519\u001b[0m \u001b[32m━━━━━━━━━━━━━━━━━━━━\u001b[0m\u001b[37m\u001b[0m \u001b[1m19s\u001b[0m 3ms/step - accuracy: 0.9095 - loss: 0.2058\n",
      "Epoch 9/10\n",
      "\u001b[1m5519/5519\u001b[0m \u001b[32m━━━━━━━━━━━━━━━━━━━━\u001b[0m\u001b[37m\u001b[0m \u001b[1m19s\u001b[0m 3ms/step - accuracy: 0.9075 - loss: 0.2027\n",
      "Epoch 10/10\n",
      "\u001b[1m5519/5519\u001b[0m \u001b[32m━━━━━━━━━━━━━━━━━━━━\u001b[0m\u001b[37m\u001b[0m \u001b[1m19s\u001b[0m 3ms/step - accuracy: 0.9091 - loss: 0.2014\n"
     ]
    }
   ],
   "source": [
    "estimator = KerasClassifier(model=baseline_model, epochs=10, batch_size=5, verbose=1)\n",
    "history = estimator.fit(X_train, y_train)\n"
   ]
  },
  {
   "cell_type": "code",
   "execution_count": 45,
   "id": "8a63b054-ab1f-424c-a251-1805c523a278",
   "metadata": {},
   "outputs": [
    {
     "name": "stdout",
     "output_type": "stream",
     "text": [
      "Epoch 1/10\n",
      "\u001b[1m5519/5519\u001b[0m \u001b[32m━━━━━━━━━━━━━━━━━━━━\u001b[0m\u001b[37m\u001b[0m \u001b[1m21s\u001b[0m 3ms/step - accuracy: 0.8934 - loss: 0.2944\n",
      "Epoch 2/10\n",
      "\u001b[1m5519/5519\u001b[0m \u001b[32m━━━━━━━━━━━━━━━━━━━━\u001b[0m\u001b[37m\u001b[0m \u001b[1m19s\u001b[0m 4ms/step - accuracy: 0.9082 - loss: 0.2174\n",
      "Epoch 3/10\n",
      "\u001b[1m5519/5519\u001b[0m \u001b[32m━━━━━━━━━━━━━━━━━━━━\u001b[0m\u001b[37m\u001b[0m \u001b[1m19s\u001b[0m 3ms/step - accuracy: 0.9052 - loss: 0.2139\n",
      "Epoch 4/10\n",
      "\u001b[1m5519/5519\u001b[0m \u001b[32m━━━━━━━━━━━━━━━━━━━━\u001b[0m\u001b[37m\u001b[0m \u001b[1m19s\u001b[0m 3ms/step - accuracy: 0.9075 - loss: 0.2085\n",
      "Epoch 5/10\n",
      "\u001b[1m5519/5519\u001b[0m \u001b[32m━━━━━━━━━━━━━━━━━━━━\u001b[0m\u001b[37m\u001b[0m \u001b[1m19s\u001b[0m 3ms/step - accuracy: 0.9075 - loss: 0.2103\n",
      "Epoch 6/10\n",
      "\u001b[1m5519/5519\u001b[0m \u001b[32m━━━━━━━━━━━━━━━━━━━━\u001b[0m\u001b[37m\u001b[0m \u001b[1m19s\u001b[0m 3ms/step - accuracy: 0.9084 - loss: 0.2074\n",
      "Epoch 7/10\n",
      "\u001b[1m5519/5519\u001b[0m \u001b[32m━━━━━━━━━━━━━━━━━━━━\u001b[0m\u001b[37m\u001b[0m \u001b[1m19s\u001b[0m 3ms/step - accuracy: 0.9087 - loss: 0.2020\n",
      "Epoch 8/10\n",
      "\u001b[1m5519/5519\u001b[0m \u001b[32m━━━━━━━━━━━━━━━━━━━━\u001b[0m\u001b[37m\u001b[0m \u001b[1m21s\u001b[0m 3ms/step - accuracy: 0.9077 - loss: 0.2078\n",
      "Epoch 9/10\n",
      "\u001b[1m5519/5519\u001b[0m \u001b[32m━━━━━━━━━━━━━━━━━━━━\u001b[0m\u001b[37m\u001b[0m \u001b[1m19s\u001b[0m 3ms/step - accuracy: 0.9087 - loss: 0.2028\n",
      "Epoch 10/10\n",
      "\u001b[1m5519/5519\u001b[0m \u001b[32m━━━━━━━━━━━━━━━━━━━━\u001b[0m\u001b[37m\u001b[0m \u001b[1m19s\u001b[0m 3ms/step - accuracy: 0.9094 - loss: 0.2046\n"
     ]
    },
    {
     "data": {
      "image/png": "[encoded data removed]",
      "text/plain": [
       "<Figure size 1200x500 with 2 Axes>"
      ]
     },
     "metadata": {},
     "output_type": "display_data"
    }
   ],
   "source": [
    "history = estimator.fit(X_train, y_train)\n",
    "acc = history.history_['accuracy']\n",
    "loss = history.history_['loss']\n",
    "\n",
    "epochs_range = range(len(acc))  # Automatically adapts to number of epochs\n",
    "\n",
    "plt.figure(figsize=(12, 5))\n",
    "\n",
    "# Plot Accuracy\n",
    "plt.subplot(1, 2, 1)\n",
    "plt.plot(epochs_range, acc, label='Training Accuracy', marker='o')\n",
    "plt.title('Training Accuracy')\n",
    "plt.xlabel('Epochs')\n",
    "plt.ylabel('Accuracy')\n",
    "plt.legend()\n",
    "\n",
    "# Plot Loss\n",
    "plt.subplot(1, 2, 2)\n",
    "plt.plot(epochs_range, loss, label='Training Loss', marker='o', color='red')\n",
    "plt.title('Training Loss')\n",
    "plt.xlabel('Epochs')\n",
    "plt.ylabel('Loss')\n",
    "plt.legend()\n",
    "\n",
    "plt.tight_layout()\n",
    "plt.show()\n"
   ]
  },
  {
   "cell_type": "code",
   "execution_count": 46,
   "id": "4b9d3644-2117-45f7-b3dd-ec7750e1dc25",
   "metadata": {},
   "outputs": [],
   "source": [
    "from sklearn.metrics import accuracy_score"
   ]
  },
  {
   "cell_type": "code",
   "execution_count": 47,
   "id": "ad514aaa-944d-4b59-a792-032eb5687f95",
   "metadata": {},
   "outputs": [
    {
     "name": "stdout",
     "output_type": "stream",
     "text": [
      "\u001b[1m2719/2719\u001b[0m \u001b[32m━━━━━━━━━━━━━━━━━━━━\u001b[0m\u001b[37m\u001b[0m \u001b[1m6s\u001b[0m 2ms/step\n",
      "Accuracy: 0.91\n"
     ]
    }
   ],
   "source": [
    "yhat = estimator.predict(X_test)\n",
    "accuracy = accuracy_score(y_test, yhat)\n",
    "print('Accuracy: %.2f' % (accuracy))"
   ]
  },
  {
   "cell_type": "code",
   "execution_count": 48,
   "id": "dbad2c2a-0ee9-4a08-9f4d-735b6ef4e06c",
   "metadata": {},
   "outputs": [],
   "source": [
    "clf_name.append('KerasClassifier')\n",
    "clf_acc.append(accuracy)"
   ]
  },
  {
   "cell_type": "code",
   "execution_count": 49,
   "id": "0bb4c741-5a40-402a-9595-1ef2adda772b",
   "metadata": {},
   "outputs": [
    {
     "data": {
      "image/png": "[encoded data removed]",
      "text/plain": [
       "<Figure size 800x600 with 2 Axes>"
      ]
     },
     "metadata": {},
     "output_type": "display_data"
    }
   ],
   "source": [
    "from sklearn.metrics import confusion_matrix\n",
    "# Confusion matrix\n",
    "cm = pd.DataFrame(confusion_matrix(yhat, y_test))\n",
    "sns.heatmap(cm, annot=True, )\n",
    "plt.xlabel(\"True labels\")\n",
    "plt.ylabel(\"Predicted labels\")\n",
    "plt.show()"
   ]
  },
  {
   "cell_type": "code",
   "execution_count": 53,
   "id": "d3be283f-971c-4b6c-824b-bc44722f49ac",
   "metadata": {},
   "outputs": [
    {
     "name": "stdout",
     "output_type": "stream",
     "text": [
      "Training model 1/3\n",
      "Epoch 1/10\n",
      "\u001b[1m5519/5519\u001b[0m \u001b[32m━━━━━━━━━━━━━━━━━━━━\u001b[0m\u001b[37m\u001b[0m \u001b[1m21s\u001b[0m 3ms/step - accuracy: 0.9009 - loss: 0.2876\n",
      "Epoch 2/10\n",
      "\u001b[1m5519/5519\u001b[0m \u001b[32m━━━━━━━━━━━━━━━━━━━━\u001b[0m\u001b[37m\u001b[0m \u001b[1m19s\u001b[0m 3ms/step - accuracy: 0.9070 - loss: 0.2157\n",
      "Epoch 3/10\n",
      "\u001b[1m5519/5519\u001b[0m \u001b[32m━━━━━━━━━━━━━━━━━━━━\u001b[0m\u001b[37m\u001b[0m \u001b[1m19s\u001b[0m 3ms/step - accuracy: 0.9070 - loss: 0.2088\n",
      "Epoch 4/10\n",
      "\u001b[1m5519/5519\u001b[0m \u001b[32m━━━━━━━━━━━━━━━━━━━━\u001b[0m\u001b[37m\u001b[0m \u001b[1m19s\u001b[0m 3ms/step - accuracy: 0.9072 - loss: 0.2107\n",
      "Epoch 5/10\n",
      "\u001b[1m5519/5519\u001b[0m \u001b[32m━━━━━━━━━━━━━━━━━━━━\u001b[0m\u001b[37m\u001b[0m \u001b[1m18s\u001b[0m 3ms/step - accuracy: 0.9064 - loss: 0.2119\n",
      "Epoch 6/10\n",
      "\u001b[1m5519/5519\u001b[0m \u001b[32m━━━━━━━━━━━━━━━━━━━━\u001b[0m\u001b[37m\u001b[0m \u001b[1m18s\u001b[0m 3ms/step - accuracy: 0.9096 - loss: 0.2059\n",
      "Epoch 7/10\n",
      "\u001b[1m5519/5519\u001b[0m \u001b[32m━━━━━━━━━━━━━━━━━━━━\u001b[0m\u001b[37m\u001b[0m \u001b[1m19s\u001b[0m 3ms/step - accuracy: 0.9049 - loss: 0.2100\n",
      "Epoch 8/10\n",
      "\u001b[1m5519/5519\u001b[0m \u001b[32m━━━━━━━━━━━━━━━━━━━━\u001b[0m\u001b[37m\u001b[0m \u001b[1m19s\u001b[0m 3ms/step - accuracy: 0.9088 - loss: 0.2032\n",
      "Epoch 9/10\n",
      "\u001b[1m5519/5519\u001b[0m \u001b[32m━━━━━━━━━━━━━━━━━━━━\u001b[0m\u001b[37m\u001b[0m \u001b[1m19s\u001b[0m 3ms/step - accuracy: 0.9042 - loss: 0.2094\n",
      "Epoch 10/10\n",
      "\u001b[1m5519/5519\u001b[0m \u001b[32m━━━━━━━━━━━━━━━━━━━━\u001b[0m\u001b[37m\u001b[0m \u001b[1m19s\u001b[0m 3ms/step - accuracy: 0.9078 - loss: 0.2007\n"
     ]
    },
    {
     "name": "stderr",
     "output_type": "stream",
     "text": [
      "WARNING:absl:You are saving your model as an HDF5 file via `model.save()` or `keras.saving.save_model(model)`. This file format is considered legacy. We recommend using instead the native Keras format, e.g. `model.save('my_model.keras')` or `keras.saving.save_model(model, 'my_model.keras')`. \n"
     ]
    },
    {
     "name": "stdout",
     "output_type": "stream",
     "text": [
      "Training model 2/3\n",
      "Epoch 1/10\n",
      "\u001b[1m5519/5519\u001b[0m \u001b[32m━━━━━━━━━━━━━━━━━━━━\u001b[0m\u001b[37m\u001b[0m \u001b[1m21s\u001b[0m 3ms/step - accuracy: 0.8897 - loss: 0.2976\n",
      "Epoch 2/10\n",
      "\u001b[1m5519/5519\u001b[0m \u001b[32m━━━━━━━━━━━━━━━━━━━━\u001b[0m\u001b[37m\u001b[0m \u001b[1m19s\u001b[0m 3ms/step - accuracy: 0.9075 - loss: 0.2171\n",
      "Epoch 3/10\n",
      "\u001b[1m5519/5519\u001b[0m \u001b[32m━━━━━━━━━━━━━━━━━━━━\u001b[0m\u001b[37m\u001b[0m \u001b[1m19s\u001b[0m 3ms/step - accuracy: 0.9057 - loss: 0.2141\n",
      "Epoch 4/10\n",
      "\u001b[1m5519/5519\u001b[0m \u001b[32m━━━━━━━━━━━━━━━━━━━━\u001b[0m\u001b[37m\u001b[0m \u001b[1m19s\u001b[0m 3ms/step - accuracy: 0.9122 - loss: 0.2027\n",
      "Epoch 5/10\n",
      "\u001b[1m5519/5519\u001b[0m \u001b[32m━━━━━━━━━━━━━━━━━━━━\u001b[0m\u001b[37m\u001b[0m \u001b[1m19s\u001b[0m 3ms/step - accuracy: 0.9041 - loss: 0.2135\n",
      "Epoch 6/10\n",
      "\u001b[1m5519/5519\u001b[0m \u001b[32m━━━━━━━━━━━━━━━━━━━━\u001b[0m\u001b[37m\u001b[0m \u001b[1m19s\u001b[0m 3ms/step - accuracy: 0.9101 - loss: 0.1997\n",
      "Epoch 7/10\n",
      "\u001b[1m5519/5519\u001b[0m \u001b[32m━━━━━━━━━━━━━━━━━━━━\u001b[0m\u001b[37m\u001b[0m \u001b[1m19s\u001b[0m 3ms/step - accuracy: 0.9089 - loss: 0.2057\n",
      "Epoch 8/10\n",
      "\u001b[1m5519/5519\u001b[0m \u001b[32m━━━━━━━━━━━━━━━━━━━━\u001b[0m\u001b[37m\u001b[0m \u001b[1m19s\u001b[0m 3ms/step - accuracy: 0.9078 - loss: 0.2066\n",
      "Epoch 9/10\n",
      "\u001b[1m5519/5519\u001b[0m \u001b[32m━━━━━━━━━━━━━━━━━━━━\u001b[0m\u001b[37m\u001b[0m \u001b[1m19s\u001b[0m 3ms/step - accuracy: 0.9100 - loss: 0.2042\n",
      "Epoch 10/10\n",
      "\u001b[1m5519/5519\u001b[0m \u001b[32m━━━━━━━━━━━━━━━━━━━━\u001b[0m\u001b[37m\u001b[0m \u001b[1m19s\u001b[0m 3ms/step - accuracy: 0.9112 - loss: 0.2017\n"
     ]
    },
    {
     "name": "stderr",
     "output_type": "stream",
     "text": [
      "WARNING:absl:You are saving your model as an HDF5 file via `model.save()` or `keras.saving.save_model(model)`. This file format is considered legacy. We recommend using instead the native Keras format, e.g. `model.save('my_model.keras')` or `keras.saving.save_model(model, 'my_model.keras')`. \n"
     ]
    },
    {
     "name": "stdout",
     "output_type": "stream",
     "text": [
      "Training model 3/3\n",
      "Epoch 1/10\n",
      "\u001b[1m5519/5519\u001b[0m \u001b[32m━━━━━━━━━━━━━━━━━━━━\u001b[0m\u001b[37m\u001b[0m \u001b[1m20s\u001b[0m 3ms/step - accuracy: 0.8917 - loss: 0.3042\n",
      "Epoch 2/10\n",
      "\u001b[1m5519/5519\u001b[0m \u001b[32m━━━━━━━━━━━━━━━━━━━━\u001b[0m\u001b[37m\u001b[0m \u001b[1m18s\u001b[0m 3ms/step - accuracy: 0.9073 - loss: 0.2161\n",
      "Epoch 3/10\n",
      "\u001b[1m5519/5519\u001b[0m \u001b[32m━━━━━━━━━━━━━━━━━━━━\u001b[0m\u001b[37m\u001b[0m \u001b[1m18s\u001b[0m 3ms/step - accuracy: 0.9041 - loss: 0.2178\n",
      "Epoch 4/10\n",
      "\u001b[1m5519/5519\u001b[0m \u001b[32m━━━━━━━━━━━━━━━━━━━━\u001b[0m\u001b[37m\u001b[0m \u001b[1m18s\u001b[0m 3ms/step - accuracy: 0.9063 - loss: 0.2125\n",
      "Epoch 5/10\n",
      "\u001b[1m5519/5519\u001b[0m \u001b[32m━━━━━━━━━━━━━━━━━━━━\u001b[0m\u001b[37m\u001b[0m \u001b[1m19s\u001b[0m 3ms/step - accuracy: 0.9081 - loss: 0.2108\n",
      "Epoch 6/10\n",
      "\u001b[1m5519/5519\u001b[0m \u001b[32m━━━━━━━━━━━━━━━━━━━━\u001b[0m\u001b[37m\u001b[0m \u001b[1m19s\u001b[0m 3ms/step - accuracy: 0.9071 - loss: 0.2077\n",
      "Epoch 7/10\n",
      "\u001b[1m5519/5519\u001b[0m \u001b[32m━━━━━━━━━━━━━━━━━━━━\u001b[0m\u001b[37m\u001b[0m \u001b[1m19s\u001b[0m 3ms/step - accuracy: 0.9108 - loss: 0.2013\n",
      "Epoch 8/10\n",
      "\u001b[1m5519/5519\u001b[0m \u001b[32m━━━━━━━━━━━━━━━━━━━━\u001b[0m\u001b[37m\u001b[0m \u001b[1m19s\u001b[0m 3ms/step - accuracy: 0.9086 - loss: 0.2044\n",
      "Epoch 9/10\n",
      "\u001b[1m5519/5519\u001b[0m \u001b[32m━━━━━━━━━━━━━━━━━━━━\u001b[0m\u001b[37m\u001b[0m \u001b[1m19s\u001b[0m 3ms/step - accuracy: 0.9107 - loss: 0.2044\n",
      "Epoch 10/10\n",
      "\u001b[1m5519/5519\u001b[0m \u001b[32m━━━━━━━━━━━━━━━━━━━━\u001b[0m\u001b[37m\u001b[0m \u001b[1m19s\u001b[0m 3ms/step - accuracy: 0.9098 - loss: 0.2018\n"
     ]
    },
    {
     "name": "stderr",
     "output_type": "stream",
     "text": [
      "WARNING:absl:You are saving your model as an HDF5 file via `model.save()` or `keras.saving.save_model(model)`. This file format is considered legacy. We recommend using instead the native Keras format, e.g. `model.save('my_model.keras')` or `keras.saving.save_model(model, 'my_model.keras')`. \n"
     ]
    }
   ],
   "source": [
    "from tensorflow.keras.models import save_model\n",
    "\n",
    "n_members = 3\n",
    "members = list()\n",
    "\n",
    "for i in range(n_members):\n",
    "    print(f\"Training model {i+1}/{n_members}\")\n",
    "    \n",
    "    # Define and fit model\n",
    "    model = KerasClassifier(model=baseline_model, epochs=10, batch_size=5, verbose=1)\n",
    "    model.fit(X_train, y_train)\n",
    "    \n",
    "    # Save the inner Keras model (model.model_ is the actual Keras model)\n",
    "    model.model_.save(f'model_{i+1}.h5')\n",
    "    \n",
    "    # Keep reference to the full KerasClassifier if needed\n",
    "    members.append(model)\n"
   ]
  },
  {
   "cell_type": "code",
   "execution_count": 54,
   "id": "e90f3e89-bd83-43a7-9f31-f991446244d0",
   "metadata": {},
   "outputs": [
    {
     "name": "stdout",
     "output_type": "stream",
     "text": [
      "\u001b[1m2719/2719\u001b[0m \u001b[32m━━━━━━━━━━━━━━━━━━━━\u001b[0m\u001b[37m\u001b[0m \u001b[1m6s\u001b[0m 2ms/step\n",
      "Accuracy: 0.9104\n",
      "\u001b[1m2719/2719\u001b[0m \u001b[32m━━━━━━━━━━━━━━━━━━━━\u001b[0m\u001b[37m\u001b[0m \u001b[1m6s\u001b[0m 2ms/step\n",
      "Accuracy: 0.9089\n",
      "\u001b[1m2719/2719\u001b[0m \u001b[32m━━━━━━━━━━━━━━━━━━━━\u001b[0m\u001b[37m\u001b[0m \u001b[1m6s\u001b[0m 2ms/step\n",
      "Accuracy: 0.9080\n"
     ]
    }
   ],
   "source": [
    "# evaluate standalone models on test dataset\n",
    "for model in members:\n",
    "    yhat = model.predict(X_test)\n",
    "    accuracy = accuracy_score(y_test, yhat)\n",
    "    print('Accuracy: %.4f' % (accuracy))"
   ]
  },
  {
   "cell_type": "code",
   "execution_count": 55,
   "id": "8f4d0245-e79d-4f17-9f5f-395a78c9ac73",
   "metadata": {},
   "outputs": [],
   "source": [
    "from numpy import dstack\n",
    "def stacked_dataset(members, inputX):\n",
    "    stackX = None\n",
    "    for model in members:\n",
    "        # make prediction\n",
    "        yhat = model.predict(inputX, verbose=0)\n",
    "        # stack predictions into [rows, members, probabilities]\n",
    "        if stackX is None:\n",
    "            stackX = yhat\n",
    "        else:\n",
    "            stackX = dstack((stackX, yhat))\n",
    "    # flatten predictions to [rows, members]\n",
    "    stackX = stackX.reshape((stackX.shape[1], stackX.shape[2]))\n",
    "    return stackX"
   ]
  },
  {
   "cell_type": "code",
   "execution_count": 56,
   "id": "e7b7643f-d332-4bce-9ea2-45635f4206cd",
   "metadata": {},
   "outputs": [],
   "source": [
    "def fit_stacked_model(members, inputX, inputy):\n",
    "    # create dataset using ensemble\n",
    "    stackedX = stacked_dataset(members, inputX)\n",
    "    # fit standalone model\n",
    "    model = LogisticRegression()\n",
    "    model.fit(stackedX, inputy)\n",
    "    return model"
   ]
  },
  {
   "cell_type": "code",
   "execution_count": 57,
   "id": "754e1c3c-9cd0-4531-abae-2800ac668059",
   "metadata": {},
   "outputs": [],
   "source": [
    "model = fit_stacked_model(members, X_test, y_test)"
   ]
  },
  {
   "cell_type": "code",
   "execution_count": 58,
   "id": "73a96753-fae4-49b7-bf47-9034b93f6ef8",
   "metadata": {},
   "outputs": [],
   "source": [
    "def stacked_prediction(members, model, inputX):\n",
    "    # create dataset using ensemble\n",
    "    stackedX = stacked_dataset(members, inputX)\n",
    "    # make a prediction\n",
    "    yhat = model.predict(stackedX)\n",
    "    return yhat"
   ]
  },
  {
   "cell_type": "code",
   "execution_count": 59,
   "id": "f973c011-7b63-4170-b5e0-05ac31cba54e",
   "metadata": {},
   "outputs": [
    {
     "name": "stdout",
     "output_type": "stream",
     "text": [
      "Accuracy: 0.9093\n"
     ]
    }
   ],
   "source": [
    "yhat = stacked_prediction(members, model, X_test)\n",
    "accuracy = accuracy_score(y_test, yhat)\n",
    "print('Accuracy: %.4f' % (accuracy))"
   ]
  },
  {
   "cell_type": "code",
   "execution_count": 60,
   "id": "053f5d46-e46e-492e-9da5-62a7f7d70beb",
   "metadata": {},
   "outputs": [],
   "source": [
    "clf_name.append('LinearKerasEnsemble')\n",
    "clf_acc.append(accuracy)"
   ]
  },
  {
   "cell_type": "code",
   "execution_count": 61,
   "id": "8a91c772-a1bd-442a-bf20-a219186096ee",
   "metadata": {},
   "outputs": [],
   "source": [
    "df = pd.DataFrame({'Classificators':clf_name, 'Accuracy':clf_acc})\n",
    "ax = df.plot.bar(x='Classificators', y='Accuracy', rot=45)"
   ]
  },
  {
   "cell_type": "code",
   "execution_count": 62,
   "id": "f912e7b8-a9f6-470c-be0f-047c7379860e",
   "metadata": {},
   "outputs": [
    {
     "data": {
      "text/html": [
       "<div>\n",
       "<style scoped>\n",
       "    .dataframe tbody tr th:only-of-type {\n",
       "        vertical-align: middle;\n",
       "    }\n",
       "\n",
       "    .dataframe tbody tr th {\n",
       "        vertical-align: top;\n",
       "    }\n",
       "\n",
       "    .dataframe thead th {\n",
       "        text-align: right;\n",
       "    }\n",
       "</style>\n",
       "<table border=\"1\" class=\"dataframe\">\n",
       "  <thead>\n",
       "    <tr style=\"text-align: right;\">\n",
       "      <th></th>\n",
       "      <th>Classificators</th>\n",
       "      <th>Accuracy</th>\n",
       "    </tr>\n",
       "  </thead>\n",
       "  <tbody>\n",
       "    <tr>\n",
       "      <th>0</th>\n",
       "      <td>Logistic Regression</td>\n",
       "      <td>0.8695</td>\n",
       "    </tr>\n",
       "    <tr>\n",
       "      <th>1</th>\n",
       "      <td>Hard Voiting Ensemble</td>\n",
       "      <td>0.8041</td>\n",
       "    </tr>\n",
       "    <tr>\n",
       "      <th>2</th>\n",
       "      <td>Soft Voiting Ensemble</td>\n",
       "      <td>0.8237</td>\n",
       "    </tr>\n",
       "    <tr>\n",
       "      <th>3</th>\n",
       "      <td>KerasClassifier</td>\n",
       "      <td>0.9100</td>\n",
       "    </tr>\n",
       "    <tr>\n",
       "      <th>4</th>\n",
       "      <td>LinearKerasEnsemble</td>\n",
       "      <td>0.9093</td>\n",
       "    </tr>\n",
       "  </tbody>\n",
       "</table>\n",
       "</div>"
      ],
      "text/plain": [
       "          Classificators  Accuracy\n",
       "0    Logistic Regression    0.8695\n",
       "1  Hard Voiting Ensemble    0.8041\n",
       "2  Soft Voiting Ensemble    0.8237\n",
       "3        KerasClassifier    0.9100\n",
       "4    LinearKerasEnsemble    0.9093"
      ]
     },
     "execution_count": 62,
     "metadata": {},
     "output_type": "execute_result"
    }
   ],
   "source": [
    "pd.options.display.float_format = '{:.4f}'.format\n",
    "df"
   ]
  },
  {
   "cell_type": "code",
   "execution_count": 65,
   "id": "b939bd5e-8e2e-4888-bb11-e57cfad0d69c",
   "metadata": {},
   "outputs": [
    {
     "name": "stderr",
     "output_type": "stream",
     "text": [
      "WARNING:absl:You are saving your model as an HDF5 file via `model.save()` or `keras.saving.save_model(model)`. This file format is considered legacy. We recommend using instead the native Keras format, e.g. `model.save('my_model.keras')` or `keras.saving.save_model(model, 'my_model.keras')`. \n",
      "WARNING:absl:You are saving your model as an HDF5 file via `model.save()` or `keras.saving.save_model(model)`. This file format is considered legacy. We recommend using instead the native Keras format, e.g. `model.save('my_model.keras')` or `keras.saving.save_model(model, 'my_model.keras')`. \n",
      "WARNING:absl:You are saving your model as an HDF5 file via `model.save()` or `keras.saving.save_model(model)`. This file format is considered legacy. We recommend using instead the native Keras format, e.g. `model.save('my_model.keras')` or `keras.saving.save_model(model, 'my_model.keras')`. \n"
     ]
    }
   ],
   "source": [
    "for i, keras_model in enumerate(members):\n",
    "    keras_model.model_.save(f\"stacked_member_model_{i+1}.h5\")\n"
   ]
  },
  {
   "cell_type": "code",
   "execution_count": 66,
   "id": "abf54ca1-7a77-4821-af20-60fb1b9e966f",
   "metadata": {},
   "outputs": [
    {
     "data": {
      "text/plain": [
       "['meta_model.pkl']"
      ]
     },
     "execution_count": 66,
     "metadata": {},
     "output_type": "execute_result"
    }
   ],
   "source": [
    "import joblib\n",
    "\n",
    "joblib.dump(model, \"meta_model.pkl\")  # `model` is your stacking meta-learner\n"
   ]
  }
 ],
 "metadata": {
  "kernelspec": {
   "display_name": "Python 3 (ipykernel)",
   "language": "python",
   "name": "python3"
  },
  "language_info": {
   "codemirror_mode": {
    "name": "ipython",
    "version": 3
   },
   "file_extension": ".py",
   "mimetype": "text/x-python",
   "name": "python",
   "nbconvert_exporter": "python",
   "pygments_lexer": "ipython3",
   "version": "3.12.7"
  }
 },
 "nbformat": 4,
 "nbformat_minor": 5
}
